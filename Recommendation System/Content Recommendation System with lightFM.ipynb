{
 "cells": [
  {
   "cell_type": "markdown",
   "id": "f586345e",
   "metadata": {},
   "source": [
    "# Newsletter Content Recommendation System with lightFM</font>"
   ]
  },
  {
   "cell_type": "markdown",
   "id": "bddf6c90",
   "metadata": {},
   "source": [
    "## Table of Contents\n",
    "\n",
    "* [<font color='#24bfeb'>1. Target definition </font>](#chapter1)\n",
    "\n",
    "\n",
    "* [<font color='#24bfeb'>2. Algorithm implementation </font>](#chapter2)\n",
    "\n",
    "    * [<font color='#24bfeb'>2.1. Project initiation</font>](#section_2_1)\n",
    "        * [<font color='#24bfeb'>2.1.1 Reestart the session</font>](#section_2_1_1)\n",
    "        * [<font color='#24bfeb'>2.1.2 Import libraries</font>](#section_2_1_2) \n",
    "\n",
    "    * [<font color='#24bfeb'>2.2. Data preprocessing</font>](#section_2_2)\n",
    "\n",
    "        * [<font color='#24bfeb'>2.2.1 Import data</font>](#section_2_2_1)\n",
    "        * [<font color='#24bfeb'>2.2.2 Exploratory data analysis</font>](#section_2_2_2)\n",
    "        * [<font color='#24bfeb'>2.2.3 Missing data</font>](#section_2_2_3)\n",
    "        * [<font color='#24bfeb'>2.2.4 Outlier detection</font>](#section_2_2_4)\n",
    "        * [<font color='#24bfeb'>2.2.5 Categorical features</font>](#section_2_5)\n",
    "            * [<font color='#24bfeb'>2.2.5.1 Identify unique values</font>](#sub_section_2_2_5_1)\n",
    "            * [<font color='#24bfeb'>2.2.5.2 One-Hot encoding</font>](#sub_section_2_2_5_2)\n",
    "        * [<font color='#24bfeb'>2.2.6 Feature engineering</font>](#section_2_2_6)\n",
    "        \n",
    "        * [<font color='#24bfeb'>2.2.7 Feature scaling</font>](#section_2_2_7)\n",
    "\n",
    "    * [<font color='#24bfeb'>2.3. Model selection</font>](#section_2_3)\n",
    "        * [<font color='#24bfeb'>2.3.1 Initial considerations</font>](#section_2_3_1)\n",
    "        * [<font color='#24bfeb'>2.3.2 Metric selection</font>](#section_2_3_2)\n",
    "        \n",
    "    * [<font color='#24bfeb'>2.4 Implementation</font>](#section_2_4)\n",
    "\n",
    "    * [<font color='#24bfeb'>2.5 Model improvement</font>](#section_2_5)\n",
    "\n",
    "    * [<font color='#24bfeb'>2.6 Model deployment</font>](#section_2_6)\n",
    "\n",
    "\n",
    "* [<font color='#24bfeb'>3. System evolution </font>](#chapter3)\n",
    "\n",
    "\n",
    "* [<font color='#24bfeb'>4. UX tools alternatives </font>](#chapter4)\n",
    "\n",
    "\n",
    "* [<font color='#24bfeb'>5. Model feature selection</font>](#chapter5)\n",
    "\n",
    "\n",
    "* [<font color='#24bfeb'>6. Next steps: computer vision and text mining </font>](#chapter6)"
   ]
  },
  {
   "cell_type": "markdown",
   "id": "b9895b7f",
   "metadata": {},
   "source": [
    "# 1. Target definition <a class=\"anchor\" id=\"chapter1\"></a>\n",
    "1. Target definition \n",
    "The purpose of our solution is to increase the volume of sales of a Pharma company products. We do not have final sales by prescription from the doctors and we believe that knowledge of our brand drives sales in a long term. Based on the data that are provided to you, first we need to think what target we could select or create to optimize for long term sales increase¶"
   ]
  },
  {
   "cell_type": "markdown",
   "id": "b1778a2a",
   "metadata": {},
   "source": [
    "As our goal is to **increase the prescription of drugs by doctors 'Message_click' is the most important rate** to optimize, because altough we do not have doctor's prescriptions data it does make sense to believe that there is a positive correlation between HCP's clicks to obtain more information and prescriptions.\n",
    "\n",
    "Besides, although it is not as important as 'message_click', I think that we should also take into consideration if the **HCP has read the message. **In order to combine both we will create a weighted mean of click and read, putting the 80% of the weight in the first one**. The formula for our target will result as:\n",
    "\n",
    "$$ target = 0.8 * Messageclick + 0.2 * Messageread$$"
   ]
  },
  {
   "cell_type": "markdown",
   "id": "4a8bf743",
   "metadata": {},
   "source": [
    "# 2. Algorithm implementation <a class=\"anchor\" id=\"chapter2\"></a>\n",
    "### Based on the data you are provided, we will develop an algorithm to recommend  how to interact with HCPs in terms of newsletter and messages"
   ]
  },
  {
   "cell_type": "markdown",
   "id": "8307e91e",
   "metadata": {},
   "source": [
    "## 2.1. Project initiation <a class=\"anchor\" id=\"section_2_1\"></a>"
   ]
  },
  {
   "cell_type": "markdown",
   "id": "cd052a9d",
   "metadata": {},
   "source": [
    "### 2.1.1 Reestart the session  <a class=\"anchor\" id=\"section_2_1_1\"></a>\n",
    "It’s a good practice to restart the session and to remove all the temporary variables from the interactive development environment before we start coding"
   ]
  },
  {
   "cell_type": "code",
   "execution_count": 1,
   "id": "106bc8ca",
   "metadata": {},
   "outputs": [
    {
     "name": "stdout",
     "output_type": "stream",
     "text": [
      "\u001b[H\u001b[2J"
     ]
    }
   ],
   "source": [
    "try:\n",
    "    from IPython import get_ipython\n",
    "    get_ipython().magic('clear')\n",
    "    get_ipython().magic('reset -f')\n",
    "except:\n",
    "    pass"
   ]
  },
  {
   "cell_type": "markdown",
   "id": "6fa5bb45",
   "metadata": {},
   "source": [
    "### 2.1.2 Import libraries and basic configuration  <a class=\"anchor\" id=\"section_2_1_2\"></a>\n"
   ]
  },
  {
   "cell_type": "code",
   "execution_count": 2,
   "id": "4b228fb9",
   "metadata": {},
   "outputs": [],
   "source": [
    "#pip install lightfm"
   ]
  },
  {
   "cell_type": "code",
   "execution_count": 3,
   "id": "938152b4",
   "metadata": {},
   "outputs": [],
   "source": [
    "#pip install scikit-optimize"
   ]
  },
  {
   "cell_type": "code",
   "execution_count": 4,
   "id": "9836ee67",
   "metadata": {},
   "outputs": [
    {
     "name": "stderr",
     "output_type": "stream",
     "text": [
      "/Users/lauraruizmartinez/opt/anaconda3/lib/python3.9/site-packages/lightfm/_lightfm_fast.py:9: UserWarning: LightFM was compiled without OpenMP support. Only a single thread will be used.\n",
      "  warnings.warn(\n"
     ]
    }
   ],
   "source": [
    "import pandas as pd\n",
    "import numpy as np\n",
    "from scipy import stats \n",
    "\n",
    "# sklearn modules for data preprocessing:\n",
    "from sklearn.impute import SimpleImputer\n",
    "from sklearn.compose import ColumnTransformer\n",
    "from sklearn.preprocessing import OneHotEncoder,LabelEncoder\n",
    "from sklearn.datasets import make_regression\n",
    "from sklearn.feature_selection import SelectKBest\n",
    "from sklearn.feature_selection import f_regression\n",
    "\n",
    "#sklearn modules for Model Selection:\n",
    "from sklearn.ensemble import RandomForestClassifier\n",
    "\n",
    "from skopt import forest_minimize\n",
    "\n",
    "#Standard libraries for data visualization:\n",
    "import seaborn as sn\n",
    "from matplotlib import pyplot\n",
    "import matplotlib.pyplot as plt\n",
    "import matplotlib.ticker as mtick\n",
    "pd.options.display.max_columns = None\n",
    "#pd.options.display.max_rows = None\n",
    "\n",
    "from skopt import forest_minimize\n",
    "from lightfm import LightFM, cross_validation\n",
    "from lightfm import evaluation\n",
    "from lightfm.evaluation import auc_score\n",
    "from lightfm.data import Dataset\n",
    "from scipy import sparse\n",
    "from tqdm import tqdm\n",
    "\n",
    "import joblib"
   ]
  },
  {
   "cell_type": "markdown",
   "id": "72bfe98e",
   "metadata": {},
   "source": [
    "## 2.2 Data preprocessing <a class=\"anchor\" id=\"#section_2_2\"></a>\n",
    "Before doing any preprocessing, we will take a look at the data to understand the data to acknowledge the potential problems we are dealing with. In order to accomplish our purpose we will check distribution of the variables, presence of nulls, column types, etc.."
   ]
  },
  {
   "cell_type": "markdown",
   "id": "db3b0789",
   "metadata": {},
   "source": [
    "### 2.2.1 Import the dataset <a class=\"anchor\" id=\"section_2_2_1\"></a>"
   ]
  },
  {
   "cell_type": "code",
   "execution_count": 5,
   "id": "0d641829",
   "metadata": {},
   "outputs": [],
   "source": [
    "df = pd.read_csv('./data/data_usecase_encoded.csv', sep=';')"
   ]
  },
  {
   "cell_type": "code",
   "execution_count": 6,
   "id": "4a211609",
   "metadata": {},
   "outputs": [
    {
     "data": {
      "text/html": [
       "<div>\n",
       "<style scoped>\n",
       "    .dataframe tbody tr th:only-of-type {\n",
       "        vertical-align: middle;\n",
       "    }\n",
       "\n",
       "    .dataframe tbody tr th {\n",
       "        vertical-align: top;\n",
       "    }\n",
       "\n",
       "    .dataframe thead th {\n",
       "        text-align: right;\n",
       "    }\n",
       "</style>\n",
       "<table border=\"1\" class=\"dataframe\">\n",
       "  <thead>\n",
       "    <tr style=\"text-align: right;\">\n",
       "      <th></th>\n",
       "      <th>HCP_id</th>\n",
       "      <th>news_id</th>\n",
       "      <th>Message_id</th>\n",
       "      <th>Message_type</th>\n",
       "      <th>Message_creation_date</th>\n",
       "      <th>Message_TA</th>\n",
       "      <th>news_date</th>\n",
       "      <th>office_or_hospital_based</th>\n",
       "      <th>gender</th>\n",
       "      <th>is_cardiologist</th>\n",
       "      <th>is_gp</th>\n",
       "      <th>years_since_graduation</th>\n",
       "      <th>Message_read</th>\n",
       "      <th>Message_click</th>\n",
       "    </tr>\n",
       "  </thead>\n",
       "  <tbody>\n",
       "    <tr>\n",
       "      <th>0</th>\n",
       "      <td>3569</td>\n",
       "      <td>22</td>\n",
       "      <td>71</td>\n",
       "      <td>Biotech</td>\n",
       "      <td>10/12/19</td>\n",
       "      <td>Cardio Vascular</td>\n",
       "      <td>8/9/20</td>\n",
       "      <td>Hospital</td>\n",
       "      <td>False</td>\n",
       "      <td>True</td>\n",
       "      <td>False</td>\n",
       "      <td>10.0</td>\n",
       "      <td>1</td>\n",
       "      <td>0</td>\n",
       "    </tr>\n",
       "    <tr>\n",
       "      <th>1</th>\n",
       "      <td>3569</td>\n",
       "      <td>22</td>\n",
       "      <td>70</td>\n",
       "      <td>Biotech</td>\n",
       "      <td>7/31/18</td>\n",
       "      <td>Global</td>\n",
       "      <td>8/9/20</td>\n",
       "      <td>Hospital</td>\n",
       "      <td>False</td>\n",
       "      <td>True</td>\n",
       "      <td>False</td>\n",
       "      <td>10.0</td>\n",
       "      <td>0</td>\n",
       "      <td>0</td>\n",
       "    </tr>\n",
       "    <tr>\n",
       "      <th>2</th>\n",
       "      <td>5941</td>\n",
       "      <td>22</td>\n",
       "      <td>70</td>\n",
       "      <td>Biotech</td>\n",
       "      <td>7/31/18</td>\n",
       "      <td>Global</td>\n",
       "      <td>8/9/20</td>\n",
       "      <td>Hospital</td>\n",
       "      <td>True</td>\n",
       "      <td>True</td>\n",
       "      <td>False</td>\n",
       "      <td>10.0</td>\n",
       "      <td>1</td>\n",
       "      <td>1</td>\n",
       "    </tr>\n",
       "    <tr>\n",
       "      <th>3</th>\n",
       "      <td>5941</td>\n",
       "      <td>22</td>\n",
       "      <td>71</td>\n",
       "      <td>Biotech</td>\n",
       "      <td>10/12/19</td>\n",
       "      <td>Cardio Vascular</td>\n",
       "      <td>8/9/20</td>\n",
       "      <td>Hospital</td>\n",
       "      <td>True</td>\n",
       "      <td>True</td>\n",
       "      <td>False</td>\n",
       "      <td>10.0</td>\n",
       "      <td>1</td>\n",
       "      <td>1</td>\n",
       "    </tr>\n",
       "    <tr>\n",
       "      <th>4</th>\n",
       "      <td>8262</td>\n",
       "      <td>5</td>\n",
       "      <td>19</td>\n",
       "      <td>Biotech</td>\n",
       "      <td>10/12/18</td>\n",
       "      <td>Cardio Vascular</td>\n",
       "      <td>7/22/20</td>\n",
       "      <td>Office</td>\n",
       "      <td>True</td>\n",
       "      <td>True</td>\n",
       "      <td>False</td>\n",
       "      <td>10.0</td>\n",
       "      <td>0</td>\n",
       "      <td>0</td>\n",
       "    </tr>\n",
       "  </tbody>\n",
       "</table>\n",
       "</div>"
      ],
      "text/plain": [
       "   HCP_id  news_id  Message_id Message_type Message_creation_date  \\\n",
       "0    3569       22          71      Biotech              10/12/19   \n",
       "1    3569       22          70      Biotech               7/31/18   \n",
       "2    5941       22          70      Biotech               7/31/18   \n",
       "3    5941       22          71      Biotech              10/12/19   \n",
       "4    8262        5          19      Biotech              10/12/18   \n",
       "\n",
       "        Message_TA news_date office_or_hospital_based  gender  \\\n",
       "0  Cardio Vascular    8/9/20                 Hospital   False   \n",
       "1           Global    8/9/20                 Hospital   False   \n",
       "2           Global    8/9/20                 Hospital    True   \n",
       "3  Cardio Vascular    8/9/20                 Hospital    True   \n",
       "4  Cardio Vascular   7/22/20                   Office    True   \n",
       "\n",
       "   is_cardiologist  is_gp  years_since_graduation  Message_read  Message_click  \n",
       "0             True  False                    10.0             1              0  \n",
       "1             True  False                    10.0             0              0  \n",
       "2             True  False                    10.0             1              1  \n",
       "3             True  False                    10.0             1              1  \n",
       "4             True  False                    10.0             0              0  "
      ]
     },
     "execution_count": 6,
     "metadata": {},
     "output_type": "execute_result"
    }
   ],
   "source": [
    "df.head()"
   ]
  },
  {
   "cell_type": "markdown",
   "id": "d7f6df49",
   "metadata": {},
   "source": [
    "### 2.2.2 Exploratory data analysis  <a class=\"anchor\" id=\"section_2_2_2\"></a>\n",
    "\n",
    "In this section, we need to look at the dataset in general and each column in detail to get a better understanding of the input data.\n",
    "\n",
    "\n",
    "From the head & column methods, we get an idea that this dataset contains information redarging the\n",
    "messages sent to HCPs through newsletters and information about the HCP, the newsletter and the\n",
    "message."
   ]
  },
  {
   "cell_type": "code",
   "execution_count": 7,
   "id": "666f3a31",
   "metadata": {},
   "outputs": [
    {
     "data": {
      "text/html": [
       "<div>\n",
       "<style scoped>\n",
       "    .dataframe tbody tr th:only-of-type {\n",
       "        vertical-align: middle;\n",
       "    }\n",
       "\n",
       "    .dataframe tbody tr th {\n",
       "        vertical-align: top;\n",
       "    }\n",
       "\n",
       "    .dataframe thead th {\n",
       "        text-align: right;\n",
       "    }\n",
       "</style>\n",
       "<table border=\"1\" class=\"dataframe\">\n",
       "  <thead>\n",
       "    <tr style=\"text-align: right;\">\n",
       "      <th></th>\n",
       "      <th>HCP_id</th>\n",
       "      <th>news_id</th>\n",
       "      <th>Message_id</th>\n",
       "      <th>Message_type</th>\n",
       "      <th>Message_creation_date</th>\n",
       "      <th>Message_TA</th>\n",
       "      <th>news_date</th>\n",
       "      <th>office_or_hospital_based</th>\n",
       "      <th>gender</th>\n",
       "      <th>is_cardiologist</th>\n",
       "      <th>is_gp</th>\n",
       "      <th>years_since_graduation</th>\n",
       "      <th>Message_read</th>\n",
       "      <th>Message_click</th>\n",
       "    </tr>\n",
       "  </thead>\n",
       "  <tbody>\n",
       "    <tr>\n",
       "      <th>0</th>\n",
       "      <td>3569</td>\n",
       "      <td>22</td>\n",
       "      <td>71</td>\n",
       "      <td>Biotech</td>\n",
       "      <td>10/12/19</td>\n",
       "      <td>Cardio Vascular</td>\n",
       "      <td>8/9/20</td>\n",
       "      <td>Hospital</td>\n",
       "      <td>False</td>\n",
       "      <td>True</td>\n",
       "      <td>False</td>\n",
       "      <td>10.0</td>\n",
       "      <td>1</td>\n",
       "      <td>0</td>\n",
       "    </tr>\n",
       "    <tr>\n",
       "      <th>1</th>\n",
       "      <td>3569</td>\n",
       "      <td>22</td>\n",
       "      <td>70</td>\n",
       "      <td>Biotech</td>\n",
       "      <td>7/31/18</td>\n",
       "      <td>Global</td>\n",
       "      <td>8/9/20</td>\n",
       "      <td>Hospital</td>\n",
       "      <td>False</td>\n",
       "      <td>True</td>\n",
       "      <td>False</td>\n",
       "      <td>10.0</td>\n",
       "      <td>0</td>\n",
       "      <td>0</td>\n",
       "    </tr>\n",
       "    <tr>\n",
       "      <th>2</th>\n",
       "      <td>5941</td>\n",
       "      <td>22</td>\n",
       "      <td>70</td>\n",
       "      <td>Biotech</td>\n",
       "      <td>7/31/18</td>\n",
       "      <td>Global</td>\n",
       "      <td>8/9/20</td>\n",
       "      <td>Hospital</td>\n",
       "      <td>True</td>\n",
       "      <td>True</td>\n",
       "      <td>False</td>\n",
       "      <td>10.0</td>\n",
       "      <td>1</td>\n",
       "      <td>1</td>\n",
       "    </tr>\n",
       "    <tr>\n",
       "      <th>3</th>\n",
       "      <td>5941</td>\n",
       "      <td>22</td>\n",
       "      <td>71</td>\n",
       "      <td>Biotech</td>\n",
       "      <td>10/12/19</td>\n",
       "      <td>Cardio Vascular</td>\n",
       "      <td>8/9/20</td>\n",
       "      <td>Hospital</td>\n",
       "      <td>True</td>\n",
       "      <td>True</td>\n",
       "      <td>False</td>\n",
       "      <td>10.0</td>\n",
       "      <td>1</td>\n",
       "      <td>1</td>\n",
       "    </tr>\n",
       "    <tr>\n",
       "      <th>4</th>\n",
       "      <td>8262</td>\n",
       "      <td>5</td>\n",
       "      <td>19</td>\n",
       "      <td>Biotech</td>\n",
       "      <td>10/12/18</td>\n",
       "      <td>Cardio Vascular</td>\n",
       "      <td>7/22/20</td>\n",
       "      <td>Office</td>\n",
       "      <td>True</td>\n",
       "      <td>True</td>\n",
       "      <td>False</td>\n",
       "      <td>10.0</td>\n",
       "      <td>0</td>\n",
       "      <td>0</td>\n",
       "    </tr>\n",
       "  </tbody>\n",
       "</table>\n",
       "</div>"
      ],
      "text/plain": [
       "   HCP_id  news_id  Message_id Message_type Message_creation_date  \\\n",
       "0    3569       22          71      Biotech              10/12/19   \n",
       "1    3569       22          70      Biotech               7/31/18   \n",
       "2    5941       22          70      Biotech               7/31/18   \n",
       "3    5941       22          71      Biotech              10/12/19   \n",
       "4    8262        5          19      Biotech              10/12/18   \n",
       "\n",
       "        Message_TA news_date office_or_hospital_based  gender  \\\n",
       "0  Cardio Vascular    8/9/20                 Hospital   False   \n",
       "1           Global    8/9/20                 Hospital   False   \n",
       "2           Global    8/9/20                 Hospital    True   \n",
       "3  Cardio Vascular    8/9/20                 Hospital    True   \n",
       "4  Cardio Vascular   7/22/20                   Office    True   \n",
       "\n",
       "   is_cardiologist  is_gp  years_since_graduation  Message_read  Message_click  \n",
       "0             True  False                    10.0             1              0  \n",
       "1             True  False                    10.0             0              0  \n",
       "2             True  False                    10.0             1              1  \n",
       "3             True  False                    10.0             1              1  \n",
       "4             True  False                    10.0             0              0  "
      ]
     },
     "execution_count": 7,
     "metadata": {},
     "output_type": "execute_result"
    }
   ],
   "source": [
    "df.head()"
   ]
  },
  {
   "cell_type": "code",
   "execution_count": 8,
   "id": "ea93d938",
   "metadata": {},
   "outputs": [
    {
     "data": {
      "text/plain": [
       "Index(['HCP_id', 'news_id', 'Message_id', 'Message_type',\n",
       "       'Message_creation_date', 'Message_TA', 'news_date',\n",
       "       'office_or_hospital_based', 'gender', 'is_cardiologist', 'is_gp',\n",
       "       'years_since_graduation', 'Message_read', 'Message_click'],\n",
       "      dtype='object')"
      ]
     },
     "execution_count": 8,
     "metadata": {},
     "output_type": "execute_result"
    }
   ],
   "source": [
    "df.columns"
   ]
  },
  {
   "cell_type": "markdown",
   "id": "189dcc72",
   "metadata": {},
   "source": [
    "It seems to have duplicate registers. It is a common practice to remove duplicates. However, in this case we will not remove it as we can not be sure that those are actually mistakes. In this specific case we will treat as if the same HCP has received more than one time the same newsletter or message, which could provide predictive power itself."
   ]
  },
  {
   "cell_type": "code",
   "execution_count": 9,
   "id": "baf3cabc",
   "metadata": {},
   "outputs": [
    {
     "name": "stdout",
     "output_type": "stream",
     "text": [
      "# of registers before removing duplicates:  HCP_id                      55543\n",
      "news_id                     55543\n",
      "Message_id                  55543\n",
      "Message_type                55543\n",
      "Message_creation_date       55543\n",
      "Message_TA                  55543\n",
      "news_date                   55543\n",
      "office_or_hospital_based    55509\n",
      "gender                      55543\n",
      "is_cardiologist             55543\n",
      "is_gp                       55543\n",
      "years_since_graduation      55537\n",
      "Message_read                55543\n",
      "Message_click               55543\n",
      "dtype: int64\n",
      "# of registers after removing duplicates:  HCP_id                      55152\n",
      "news_id                     55152\n",
      "Message_id                  55152\n",
      "Message_type                55152\n",
      "Message_creation_date       55152\n",
      "Message_TA                  55152\n",
      "news_date                   55152\n",
      "office_or_hospital_based    55118\n",
      "gender                      55152\n",
      "is_cardiologist             55152\n",
      "is_gp                       55152\n",
      "years_since_graduation      55146\n",
      "Message_read                55152\n",
      "Message_click               55152\n",
      "dtype: int64\n"
     ]
    }
   ],
   "source": [
    "print('# of registers before removing duplicates: ', df.count())\n",
    "print('# of registers after removing duplicates: ', df.drop_duplicates().count())"
   ]
  },
  {
   "cell_type": "markdown",
   "id": "04b829d4",
   "metadata": {},
   "source": [
    "Now we will use the **describe** method to show **basic statistic information of each numerical column** of the dataset. This shows us and interesting first overview:\n",
    "- HDP_id news_id and message_id are identifiers so it does not make much sense to look at the statistical indicators\n",
    "- HCP years since graduation is 27.2, although values goes from 3 to 68\n",
    "- Mean of message read is 0.5 altough the messages click decreases to 0.26"
   ]
  },
  {
   "cell_type": "code",
   "execution_count": 10,
   "id": "0a7529a0",
   "metadata": {},
   "outputs": [
    {
     "data": {
      "text/html": [
       "<div>\n",
       "<style scoped>\n",
       "    .dataframe tbody tr th:only-of-type {\n",
       "        vertical-align: middle;\n",
       "    }\n",
       "\n",
       "    .dataframe tbody tr th {\n",
       "        vertical-align: top;\n",
       "    }\n",
       "\n",
       "    .dataframe thead th {\n",
       "        text-align: right;\n",
       "    }\n",
       "</style>\n",
       "<table border=\"1\" class=\"dataframe\">\n",
       "  <thead>\n",
       "    <tr style=\"text-align: right;\">\n",
       "      <th></th>\n",
       "      <th>HCP_id</th>\n",
       "      <th>news_id</th>\n",
       "      <th>Message_id</th>\n",
       "      <th>years_since_graduation</th>\n",
       "      <th>Message_read</th>\n",
       "      <th>Message_click</th>\n",
       "    </tr>\n",
       "  </thead>\n",
       "  <tbody>\n",
       "    <tr>\n",
       "      <th>count</th>\n",
       "      <td>55543.000000</td>\n",
       "      <td>55543.000000</td>\n",
       "      <td>55543.000000</td>\n",
       "      <td>55537.000000</td>\n",
       "      <td>55543.000000</td>\n",
       "      <td>55543.000000</td>\n",
       "    </tr>\n",
       "    <tr>\n",
       "      <th>mean</th>\n",
       "      <td>4170.103055</td>\n",
       "      <td>15.428731</td>\n",
       "      <td>50.671210</td>\n",
       "      <td>27.137620</td>\n",
       "      <td>0.504924</td>\n",
       "      <td>0.260123</td>\n",
       "    </tr>\n",
       "    <tr>\n",
       "      <th>std</th>\n",
       "      <td>2411.556208</td>\n",
       "      <td>8.718147</td>\n",
       "      <td>28.834948</td>\n",
       "      <td>12.367719</td>\n",
       "      <td>0.499980</td>\n",
       "      <td>0.438705</td>\n",
       "    </tr>\n",
       "    <tr>\n",
       "      <th>min</th>\n",
       "      <td>1.000000</td>\n",
       "      <td>1.000000</td>\n",
       "      <td>1.000000</td>\n",
       "      <td>3.000000</td>\n",
       "      <td>0.000000</td>\n",
       "      <td>0.000000</td>\n",
       "    </tr>\n",
       "    <tr>\n",
       "      <th>25%</th>\n",
       "      <td>2091.500000</td>\n",
       "      <td>8.000000</td>\n",
       "      <td>26.000000</td>\n",
       "      <td>17.000000</td>\n",
       "      <td>0.000000</td>\n",
       "      <td>0.000000</td>\n",
       "    </tr>\n",
       "    <tr>\n",
       "      <th>50%</th>\n",
       "      <td>4182.000000</td>\n",
       "      <td>17.000000</td>\n",
       "      <td>51.000000</td>\n",
       "      <td>28.000000</td>\n",
       "      <td>1.000000</td>\n",
       "      <td>0.000000</td>\n",
       "    </tr>\n",
       "    <tr>\n",
       "      <th>75%</th>\n",
       "      <td>6256.500000</td>\n",
       "      <td>24.000000</td>\n",
       "      <td>76.000000</td>\n",
       "      <td>37.000000</td>\n",
       "      <td>1.000000</td>\n",
       "      <td>1.000000</td>\n",
       "    </tr>\n",
       "    <tr>\n",
       "      <th>max</th>\n",
       "      <td>8349.000000</td>\n",
       "      <td>30.000000</td>\n",
       "      <td>100.000000</td>\n",
       "      <td>68.000000</td>\n",
       "      <td>1.000000</td>\n",
       "      <td>1.000000</td>\n",
       "    </tr>\n",
       "  </tbody>\n",
       "</table>\n",
       "</div>"
      ],
      "text/plain": [
       "             HCP_id       news_id    Message_id  years_since_graduation  \\\n",
       "count  55543.000000  55543.000000  55543.000000            55537.000000   \n",
       "mean    4170.103055     15.428731     50.671210               27.137620   \n",
       "std     2411.556208      8.718147     28.834948               12.367719   \n",
       "min        1.000000      1.000000      1.000000                3.000000   \n",
       "25%     2091.500000      8.000000     26.000000               17.000000   \n",
       "50%     4182.000000     17.000000     51.000000               28.000000   \n",
       "75%     6256.500000     24.000000     76.000000               37.000000   \n",
       "max     8349.000000     30.000000    100.000000               68.000000   \n",
       "\n",
       "       Message_read  Message_click  \n",
       "count  55543.000000   55543.000000  \n",
       "mean       0.504924       0.260123  \n",
       "std        0.499980       0.438705  \n",
       "min        0.000000       0.000000  \n",
       "25%        0.000000       0.000000  \n",
       "50%        1.000000       0.000000  \n",
       "75%        1.000000       1.000000  \n",
       "max        1.000000       1.000000  "
      ]
     },
     "execution_count": 10,
     "metadata": {},
     "output_type": "execute_result"
    }
   ],
   "source": [
    "df.describe()"
   ]
  },
  {
   "cell_type": "markdown",
   "id": "2bbd9653",
   "metadata": {},
   "source": [
    "Now let's look for **column types** and **missing values**. The dataset has 55543 registers and 14 columns. In addition, both categorical and numerical columns have missing values."
   ]
  },
  {
   "cell_type": "code",
   "execution_count": 11,
   "id": "a496f203",
   "metadata": {},
   "outputs": [
    {
     "name": "stdout",
     "output_type": "stream",
     "text": [
      "<class 'pandas.core.frame.DataFrame'>\n",
      "RangeIndex: 55543 entries, 0 to 55542\n",
      "Data columns (total 14 columns):\n",
      " #   Column                    Non-Null Count  Dtype  \n",
      "---  ------                    --------------  -----  \n",
      " 0   HCP_id                    55543 non-null  int64  \n",
      " 1   news_id                   55543 non-null  int64  \n",
      " 2   Message_id                55543 non-null  int64  \n",
      " 3   Message_type              55543 non-null  object \n",
      " 4   Message_creation_date     55543 non-null  object \n",
      " 5   Message_TA                55543 non-null  object \n",
      " 6   news_date                 55543 non-null  object \n",
      " 7   office_or_hospital_based  55509 non-null  object \n",
      " 8   gender                    55543 non-null  bool   \n",
      " 9   is_cardiologist           55543 non-null  bool   \n",
      " 10  is_gp                     55543 non-null  bool   \n",
      " 11  years_since_graduation    55537 non-null  float64\n",
      " 12  Message_read              55543 non-null  int64  \n",
      " 13  Message_click             55543 non-null  int64  \n",
      "dtypes: bool(3), float64(1), int64(5), object(5)\n",
      "memory usage: 4.8+ MB\n"
     ]
    }
   ],
   "source": [
    "df.info()"
   ]
  },
  {
   "cell_type": "markdown",
   "id": "b0e15b57",
   "metadata": {},
   "source": [
    "Now it's time to check the proportion of **null values** for each column. This dataset is pretty well informed, only 'office_or_hospital_based' and 'years_since_graduation' present an small proportion of null values which is no significant"
   ]
  },
  {
   "cell_type": "code",
   "execution_count": 12,
   "id": "8788074f",
   "metadata": {},
   "outputs": [
    {
     "data": {
      "text/html": [
       "<style type=\"text/css\">\n",
       "#T_516aa_row0_col0 {\n",
       "  background-color: #f7fbff;\n",
       "  color: #000000;\n",
       "}\n",
       "#T_516aa_row1_col0 {\n",
       "  background-color: #125ea6;\n",
       "  color: #f1f1f1;\n",
       "}\n",
       "#T_516aa_row2_col0, #T_516aa_row3_col0, #T_516aa_row4_col0, #T_516aa_row5_col0, #T_516aa_row6_col0, #T_516aa_row7_col0, #T_516aa_row8_col0, #T_516aa_row9_col0, #T_516aa_row10_col0, #T_516aa_row11_col0, #T_516aa_row12_col0, #T_516aa_row13_col0 {\n",
       "  background-color: #08306b;\n",
       "  color: #f1f1f1;\n",
       "}\n",
       "</style>\n",
       "<table id=\"T_516aa\">\n",
       "  <thead>\n",
       "    <tr>\n",
       "      <th class=\"blank level0\" >&nbsp;</th>\n",
       "      <th id=\"T_516aa_level0_col0\" class=\"col_heading level0 col0\" >NA Count</th>\n",
       "      <th id=\"T_516aa_level0_col1\" class=\"col_heading level0 col1\" >NA Percent</th>\n",
       "    </tr>\n",
       "  </thead>\n",
       "  <tbody>\n",
       "    <tr>\n",
       "      <th id=\"T_516aa_level0_row0\" class=\"row_heading level0 row0\" >office_or_hospital_based</th>\n",
       "      <td id=\"T_516aa_row0_col0\" class=\"data row0 col0\" >34</td>\n",
       "      <td id=\"T_516aa_row0_col1\" class=\"data row0 col1\" >0.06%</td>\n",
       "    </tr>\n",
       "    <tr>\n",
       "      <th id=\"T_516aa_level0_row1\" class=\"row_heading level0 row1\" >years_since_graduation</th>\n",
       "      <td id=\"T_516aa_row1_col0\" class=\"data row1 col0\" >6</td>\n",
       "      <td id=\"T_516aa_row1_col1\" class=\"data row1 col1\" >0.01%</td>\n",
       "    </tr>\n",
       "    <tr>\n",
       "      <th id=\"T_516aa_level0_row2\" class=\"row_heading level0 row2\" >HCP_id</th>\n",
       "      <td id=\"T_516aa_row2_col0\" class=\"data row2 col0\" >0</td>\n",
       "      <td id=\"T_516aa_row2_col1\" class=\"data row2 col1\" >0.00%</td>\n",
       "    </tr>\n",
       "    <tr>\n",
       "      <th id=\"T_516aa_level0_row3\" class=\"row_heading level0 row3\" >news_id</th>\n",
       "      <td id=\"T_516aa_row3_col0\" class=\"data row3 col0\" >0</td>\n",
       "      <td id=\"T_516aa_row3_col1\" class=\"data row3 col1\" >0.00%</td>\n",
       "    </tr>\n",
       "    <tr>\n",
       "      <th id=\"T_516aa_level0_row4\" class=\"row_heading level0 row4\" >Message_id</th>\n",
       "      <td id=\"T_516aa_row4_col0\" class=\"data row4 col0\" >0</td>\n",
       "      <td id=\"T_516aa_row4_col1\" class=\"data row4 col1\" >0.00%</td>\n",
       "    </tr>\n",
       "    <tr>\n",
       "      <th id=\"T_516aa_level0_row5\" class=\"row_heading level0 row5\" >Message_type</th>\n",
       "      <td id=\"T_516aa_row5_col0\" class=\"data row5 col0\" >0</td>\n",
       "      <td id=\"T_516aa_row5_col1\" class=\"data row5 col1\" >0.00%</td>\n",
       "    </tr>\n",
       "    <tr>\n",
       "      <th id=\"T_516aa_level0_row6\" class=\"row_heading level0 row6\" >Message_creation_date</th>\n",
       "      <td id=\"T_516aa_row6_col0\" class=\"data row6 col0\" >0</td>\n",
       "      <td id=\"T_516aa_row6_col1\" class=\"data row6 col1\" >0.00%</td>\n",
       "    </tr>\n",
       "    <tr>\n",
       "      <th id=\"T_516aa_level0_row7\" class=\"row_heading level0 row7\" >Message_TA</th>\n",
       "      <td id=\"T_516aa_row7_col0\" class=\"data row7 col0\" >0</td>\n",
       "      <td id=\"T_516aa_row7_col1\" class=\"data row7 col1\" >0.00%</td>\n",
       "    </tr>\n",
       "    <tr>\n",
       "      <th id=\"T_516aa_level0_row8\" class=\"row_heading level0 row8\" >news_date</th>\n",
       "      <td id=\"T_516aa_row8_col0\" class=\"data row8 col0\" >0</td>\n",
       "      <td id=\"T_516aa_row8_col1\" class=\"data row8 col1\" >0.00%</td>\n",
       "    </tr>\n",
       "    <tr>\n",
       "      <th id=\"T_516aa_level0_row9\" class=\"row_heading level0 row9\" >gender</th>\n",
       "      <td id=\"T_516aa_row9_col0\" class=\"data row9 col0\" >0</td>\n",
       "      <td id=\"T_516aa_row9_col1\" class=\"data row9 col1\" >0.00%</td>\n",
       "    </tr>\n",
       "    <tr>\n",
       "      <th id=\"T_516aa_level0_row10\" class=\"row_heading level0 row10\" >is_cardiologist</th>\n",
       "      <td id=\"T_516aa_row10_col0\" class=\"data row10 col0\" >0</td>\n",
       "      <td id=\"T_516aa_row10_col1\" class=\"data row10 col1\" >0.00%</td>\n",
       "    </tr>\n",
       "    <tr>\n",
       "      <th id=\"T_516aa_level0_row11\" class=\"row_heading level0 row11\" >is_gp</th>\n",
       "      <td id=\"T_516aa_row11_col0\" class=\"data row11 col0\" >0</td>\n",
       "      <td id=\"T_516aa_row11_col1\" class=\"data row11 col1\" >0.00%</td>\n",
       "    </tr>\n",
       "    <tr>\n",
       "      <th id=\"T_516aa_level0_row12\" class=\"row_heading level0 row12\" >Message_read</th>\n",
       "      <td id=\"T_516aa_row12_col0\" class=\"data row12 col0\" >0</td>\n",
       "      <td id=\"T_516aa_row12_col1\" class=\"data row12 col1\" >0.00%</td>\n",
       "    </tr>\n",
       "    <tr>\n",
       "      <th id=\"T_516aa_level0_row13\" class=\"row_heading level0 row13\" >Message_click</th>\n",
       "      <td id=\"T_516aa_row13_col0\" class=\"data row13 col0\" >0</td>\n",
       "      <td id=\"T_516aa_row13_col1\" class=\"data row13 col1\" >0.00%</td>\n",
       "    </tr>\n",
       "  </tbody>\n",
       "</table>\n"
      ],
      "text/plain": [
       "<pandas.io.formats.style.Styler at 0x7fc8abdb7040>"
      ]
     },
     "execution_count": 12,
     "metadata": {},
     "output_type": "execute_result"
    }
   ],
   "source": [
    "NA = pd.DataFrame(data=[df.isna().sum().tolist(), [\"{:.2f}\".format(i)+'%' \\\n",
    "            for i in (df.isna().sum()/df.shape[0]*100).tolist()]], \n",
    "            columns=df.columns, index=['NA Count', 'NA Percent']).T.\\\n",
    "            sort_values(by='NA Count',ascending =False)\n",
    "\n",
    "NA.style.background_gradient(cmap='Blues_r', subset=['NA Count'])"
   ]
  },
  {
   "cell_type": "markdown",
   "id": "27f593c5",
   "metadata": {},
   "source": [
    "In the **correlation matrix** we can observe that **'Message_read' is the most coorelated variables with 'Message_click'**"
   ]
  },
  {
   "cell_type": "code",
   "execution_count": 13,
   "id": "1d107eb3",
   "metadata": {
    "scrolled": false
   },
   "outputs": [
    {
     "data": {
      "image/png": "[encoded data removed]",
      "text/plain": [
       "<Figure size 500x500 with 2 Axes>"
      ]
     },
     "metadata": {},
     "output_type": "display_data"
    }
   ],
   "source": [
    "corrmat = df.corr()\n",
    "fig, ax = plt.subplots(figsize = (5,5))\n",
    "ax = sn.heatmap(corrmat, cmap='Blues_r', square=True, linewidths=0.1, annot=True, annot_kws={\"fontsize\":7})  "
   ]
  },
  {
   "cell_type": "code",
   "execution_count": 14,
   "id": "1ba6ea2f",
   "metadata": {},
   "outputs": [
    {
     "data": {
      "text/html": [
       "<div>\n",
       "<style scoped>\n",
       "    .dataframe tbody tr th:only-of-type {\n",
       "        vertical-align: middle;\n",
       "    }\n",
       "\n",
       "    .dataframe tbody tr th {\n",
       "        vertical-align: top;\n",
       "    }\n",
       "\n",
       "    .dataframe thead th {\n",
       "        text-align: right;\n",
       "    }\n",
       "</style>\n",
       "<table border=\"1\" class=\"dataframe\">\n",
       "  <thead>\n",
       "    <tr style=\"text-align: right;\">\n",
       "      <th></th>\n",
       "      <th>HCP_id</th>\n",
       "      <th>news_id</th>\n",
       "      <th>Message_id</th>\n",
       "      <th>Message_type</th>\n",
       "      <th>Message_creation_date</th>\n",
       "      <th>Message_TA</th>\n",
       "      <th>news_date</th>\n",
       "      <th>office_or_hospital_based</th>\n",
       "      <th>gender</th>\n",
       "      <th>is_cardiologist</th>\n",
       "      <th>is_gp</th>\n",
       "      <th>years_since_graduation</th>\n",
       "      <th>Message_read</th>\n",
       "      <th>Message_click</th>\n",
       "    </tr>\n",
       "  </thead>\n",
       "  <tbody>\n",
       "    <tr>\n",
       "      <th>0</th>\n",
       "      <td>3569</td>\n",
       "      <td>22</td>\n",
       "      <td>71</td>\n",
       "      <td>Biotech</td>\n",
       "      <td>10/12/19</td>\n",
       "      <td>Cardio Vascular</td>\n",
       "      <td>8/9/20</td>\n",
       "      <td>Hospital</td>\n",
       "      <td>False</td>\n",
       "      <td>True</td>\n",
       "      <td>False</td>\n",
       "      <td>10.0</td>\n",
       "      <td>1</td>\n",
       "      <td>0</td>\n",
       "    </tr>\n",
       "    <tr>\n",
       "      <th>1</th>\n",
       "      <td>3569</td>\n",
       "      <td>22</td>\n",
       "      <td>70</td>\n",
       "      <td>Biotech</td>\n",
       "      <td>7/31/18</td>\n",
       "      <td>Global</td>\n",
       "      <td>8/9/20</td>\n",
       "      <td>Hospital</td>\n",
       "      <td>False</td>\n",
       "      <td>True</td>\n",
       "      <td>False</td>\n",
       "      <td>10.0</td>\n",
       "      <td>0</td>\n",
       "      <td>0</td>\n",
       "    </tr>\n",
       "    <tr>\n",
       "      <th>2</th>\n",
       "      <td>5941</td>\n",
       "      <td>22</td>\n",
       "      <td>70</td>\n",
       "      <td>Biotech</td>\n",
       "      <td>7/31/18</td>\n",
       "      <td>Global</td>\n",
       "      <td>8/9/20</td>\n",
       "      <td>Hospital</td>\n",
       "      <td>True</td>\n",
       "      <td>True</td>\n",
       "      <td>False</td>\n",
       "      <td>10.0</td>\n",
       "      <td>1</td>\n",
       "      <td>1</td>\n",
       "    </tr>\n",
       "    <tr>\n",
       "      <th>3</th>\n",
       "      <td>5941</td>\n",
       "      <td>22</td>\n",
       "      <td>71</td>\n",
       "      <td>Biotech</td>\n",
       "      <td>10/12/19</td>\n",
       "      <td>Cardio Vascular</td>\n",
       "      <td>8/9/20</td>\n",
       "      <td>Hospital</td>\n",
       "      <td>True</td>\n",
       "      <td>True</td>\n",
       "      <td>False</td>\n",
       "      <td>10.0</td>\n",
       "      <td>1</td>\n",
       "      <td>1</td>\n",
       "    </tr>\n",
       "    <tr>\n",
       "      <th>4</th>\n",
       "      <td>8262</td>\n",
       "      <td>5</td>\n",
       "      <td>19</td>\n",
       "      <td>Biotech</td>\n",
       "      <td>10/12/18</td>\n",
       "      <td>Cardio Vascular</td>\n",
       "      <td>7/22/20</td>\n",
       "      <td>Office</td>\n",
       "      <td>True</td>\n",
       "      <td>True</td>\n",
       "      <td>False</td>\n",
       "      <td>10.0</td>\n",
       "      <td>0</td>\n",
       "      <td>0</td>\n",
       "    </tr>\n",
       "  </tbody>\n",
       "</table>\n",
       "</div>"
      ],
      "text/plain": [
       "   HCP_id  news_id  Message_id Message_type Message_creation_date  \\\n",
       "0    3569       22          71      Biotech              10/12/19   \n",
       "1    3569       22          70      Biotech               7/31/18   \n",
       "2    5941       22          70      Biotech               7/31/18   \n",
       "3    5941       22          71      Biotech              10/12/19   \n",
       "4    8262        5          19      Biotech              10/12/18   \n",
       "\n",
       "        Message_TA news_date office_or_hospital_based  gender  \\\n",
       "0  Cardio Vascular    8/9/20                 Hospital   False   \n",
       "1           Global    8/9/20                 Hospital   False   \n",
       "2           Global    8/9/20                 Hospital    True   \n",
       "3  Cardio Vascular    8/9/20                 Hospital    True   \n",
       "4  Cardio Vascular   7/22/20                   Office    True   \n",
       "\n",
       "   is_cardiologist  is_gp  years_since_graduation  Message_read  Message_click  \n",
       "0             True  False                    10.0             1              0  \n",
       "1             True  False                    10.0             0              0  \n",
       "2             True  False                    10.0             1              1  \n",
       "3             True  False                    10.0             1              1  \n",
       "4             True  False                    10.0             0              0  "
      ]
     },
     "execution_count": 14,
     "metadata": {},
     "output_type": "execute_result"
    }
   ],
   "source": [
    "df.head()"
   ]
  },
  {
   "cell_type": "markdown",
   "id": "3df4a3ed",
   "metadata": {},
   "source": [
    "We have observed that we have three bool variables that are actually binary features, so we will map it in order to study it."
   ]
  },
  {
   "cell_type": "code",
   "execution_count": 15,
   "id": "5005292c",
   "metadata": {},
   "outputs": [],
   "source": [
    "df['gender'] = df['gender'].replace(True, 1).replace(False, 0)\n",
    "df['is_cardiologist'] = df['is_cardiologist'].replace(True,1).replace(False, 0)\n",
    "df['is_gp'] = df['is_gp'].replace(True,1).replace(False, 0)\n",
    "df['office_or_hospital_based'] = df['office_or_hospital_based'].replace('Hospital',1).replace('Office', 0)"
   ]
  },
  {
   "cell_type": "markdown",
   "id": "993f6057",
   "metadata": {},
   "source": [
    "**Find positive and negative correlations with click.** Let’s have a look into the positive and negative correlations. None of the variables seem to be strongly correlated with click. We will try to create new features in order to obtain good predictors"
   ]
  },
  {
   "cell_type": "code",
   "execution_count": 16,
   "id": "4030a5d5",
   "metadata": {},
   "outputs": [
    {
     "data": {
      "text/plain": [
       "HCP_id                        int64\n",
       "news_id                       int64\n",
       "Message_id                    int64\n",
       "Message_type                 object\n",
       "Message_creation_date        object\n",
       "Message_TA                   object\n",
       "news_date                    object\n",
       "office_or_hospital_based    float64\n",
       "gender                        int64\n",
       "is_cardiologist               int64\n",
       "is_gp                         int64\n",
       "years_since_graduation      float64\n",
       "Message_read                  int64\n",
       "Message_click                 int64\n",
       "dtype: object"
      ]
     },
     "execution_count": 16,
     "metadata": {},
     "output_type": "execute_result"
    }
   ],
   "source": [
    "df.dtypes"
   ]
  },
  {
   "cell_type": "code",
   "execution_count": 17,
   "id": "bfe1fd7f",
   "metadata": {},
   "outputs": [
    {
     "name": "stdout",
     "output_type": "stream",
     "text": [
      "Most Positive Correlations: \n",
      " Message_click      1.000000\n",
      "Message_read       0.587127\n",
      "HCP_id             0.008834\n",
      "is_cardiologist    0.005779\n",
      "Message_id         0.001552\n",
      "news_id            0.001213\n",
      "gender             0.000321\n",
      "dtype: float64\n",
      "\n",
      "Most Negative Correlations: \n",
      " years_since_graduation     -0.019654\n",
      "is_gp                      -0.005779\n",
      "office_or_hospital_based   -0.000330\n",
      "dtype: float64\n"
     ]
    }
   ],
   "source": [
    "correlations = df.corrwith(df.Message_click)\n",
    "correlations = correlations[correlations!=1]\n",
    "positive_correlations = correlations[\n",
    "correlations >0].sort_values(ascending = False)\n",
    "negative_correlations =correlations[\n",
    "correlations<0].sort_values(ascending = True)\n",
    "print('Most Positive Correlations: \\n', positive_correlations)\n",
    "print('\\nMost Negative Correlations: \\n', negative_correlations)"
   ]
  },
  {
   "cell_type": "markdown",
   "id": "0010e611",
   "metadata": {},
   "source": [
    "**Plot positive & negative correlations:**"
   ]
  },
  {
   "cell_type": "code",
   "execution_count": 18,
   "id": "13c5e666",
   "metadata": {},
   "outputs": [
    {
     "data": {
      "text/plain": [
       "Text(0.5, 1.0, 'Correlation with Message click \\n')"
      ]
     },
     "execution_count": 18,
     "metadata": {},
     "output_type": "execute_result"
    },
    {
     "data": {
      "image/png": "[encoded data removed]",
      "text/plain": [
       "<Figure size 1500x500 with 1 Axes>"
      ]
     },
     "metadata": {},
     "output_type": "display_data"
    }
   ],
   "source": [
    "correlations = df.corrwith(df.Message_click)\n",
    "correlations = correlations[correlations!=1]\n",
    "correlations.plot.bar(\n",
    "        figsize = (15, 5), \n",
    "        fontsize = 15, \n",
    "        color = '#24bfeb',\n",
    "        rot = 45, grid = False)\n",
    "plt.title('Correlation with Message click \\n', horizontalalignment=\"center\", fontstyle = \"normal\", fontsize = \"22\", fontfamily = \"sans-serif\")"
   ]
  },
  {
   "cell_type": "markdown",
   "id": "84a74bda",
   "metadata": {},
   "source": [
    "Finally we will plot the **histogram** to check numerical variables **distribution**.  "
   ]
  },
  {
   "cell_type": "code",
   "execution_count": 19,
   "id": "b3e6a884",
   "metadata": {
    "scrolled": false
   },
   "outputs": [
    {
     "data": {
      "text/plain": [
       "array([[<AxesSubplot:title={'center':'office_or_hospital_based'}>,\n",
       "        <AxesSubplot:title={'center':'gender'}>,\n",
       "        <AxesSubplot:title={'center':'is_cardiologist'}>],\n",
       "       [<AxesSubplot:title={'center':'is_gp'}>,\n",
       "        <AxesSubplot:title={'center':'years_since_graduation'}>,\n",
       "        <AxesSubplot:title={'center':'Message_read'}>],\n",
       "       [<AxesSubplot:title={'center':'Message_click'}>, <AxesSubplot:>,\n",
       "        <AxesSubplot:>]], dtype=object)"
      ]
     },
     "execution_count": 19,
     "metadata": {},
     "output_type": "execute_result"
    },
    {
     "data": {
      "image/png": "[encoded data removed]",
      "text/plain": [
       "<Figure size 1200x800 with 9 Axes>"
      ]
     },
     "metadata": {},
     "output_type": "display_data"
    }
   ],
   "source": [
    "df_aux = df.drop(['HCP_id', 'news_id', 'Message_id'], axis=1)\n",
    "df_aux.hist(bins=10, grid=False, figsize=(12,8), color='#24bfeb', zorder=2, rwidth=0.9)"
   ]
  },
  {
   "cell_type": "markdown",
   "id": "6943affd",
   "metadata": {},
   "source": [
    "Same for categorical variables. "
   ]
  },
  {
   "cell_type": "code",
   "execution_count": 20,
   "id": "832c655b",
   "metadata": {},
   "outputs": [
    {
     "name": "stdout",
     "output_type": "stream",
     "text": [
      "['Message_type', 'Message_TA']\n"
     ]
    },
    {
     "name": "stderr",
     "output_type": "stream",
     "text": [
      "/var/folders/1p/tlnbdqdx6hqd3pmx9m8c8pv80000gn/T/ipykernel_15796/3585081406.py:8: UserWarning: Matplotlib is currently using module://matplotlib_inline.backend_inline, which is a non-GUI backend, so cannot show the figure.\n",
      "  fig.show()\n"
     ]
    },
    {
     "data": {
      "image/png": "[encoded data removed]",
      "text/plain": [
       "<Figure size 2000x500 with 2 Axes>"
      ]
     },
     "metadata": {},
     "output_type": "display_data"
    }
   ],
   "source": [
    "categorical_features = df.select_dtypes(include='object').columns.to_list()\n",
    "categorical_features.remove('Message_creation_date')\n",
    "categorical_features.remove('news_date')\n",
    "print(categorical_features)\n",
    "fig, ax = plt.subplots(1, 2, figsize=(20, 5))\n",
    "for i, categorical_feature in enumerate(df[categorical_features]):\n",
    "    df[categorical_feature].value_counts().plot(kind=\"bar\", ax=ax[i], color='#24bfeb').set_title(categorical_feature)\n",
    "fig.show()"
   ]
  },
  {
   "cell_type": "markdown",
   "id": "1eba4c2d",
   "metadata": {},
   "source": [
    "Now let's analyze **HCP proportion that clicked to get more information**"
   ]
  },
  {
   "cell_type": "code",
   "execution_count": 21,
   "id": "0f8aad86",
   "metadata": {},
   "outputs": [
    {
     "data": {
      "image/png": "[encoded data removed]",
      "text/plain": [
       "<Figure size 1000x500 with 1 Axes>"
      ]
     },
     "metadata": {},
     "output_type": "display_data"
    }
   ],
   "source": [
    "fig, ax  = plt.subplots(figsize=(10, 5))\n",
    "fig.suptitle('Click rate', size = 20, color = \"black\")\n",
    "explode = ( 0.05, 0.3)\n",
    "labels = [\"No\", \"Yes\"]\n",
    "sizes = df[\"Message_click\"].dropna().value_counts()\n",
    "ax.pie(sizes,\n",
    "       startangle=60,\n",
    "       labels=labels,\n",
    "       autopct='%1.0f%%',\n",
    "       pctdistance=0.9)\n",
    "ax.add_artist(plt.Circle((0,0),0.4,fc='white'))\n",
    "plt.show()"
   ]
  },
  {
   "cell_type": "markdown",
   "id": "27b285f4",
   "metadata": {},
   "source": [
    "The final step of the EDA will consist on **analyzing the click rate distribution by categorical variables.** Medical study and product launch related messages and cardiovascular type appear to have slightly higher message click rates. There is no significant differences in the rest of the categorical variables in terms of message clicks"
   ]
  },
  {
   "cell_type": "code",
   "execution_count": 25,
   "id": "6d983399",
   "metadata": {},
   "outputs": [],
   "source": [
    "def click_rate_by(column):\n",
    "    click_rate = df.groupby([column,'Message_click']).size().unstack()\n",
    "    ax = (click_rate.T*100.0 / click_rate.T.sum()).T.plot(kind='bar',width = 0.3,stacked = True,rot=0,\n",
    "                                                          figsize = (6,3))\n",
    "    plt.ylabel('Proportion of HCPs\\n',\n",
    "    horizontalalignment=\"center\",fontstyle = \"normal\", \n",
    "    fontsize = \"large\", fontfamily = \"sans-serif\")\n",
    "    plt.xlabel(column + '\\n',horizontalalignment=\"center\",\n",
    "    fontstyle = \"normal\", fontsize = \"large\", \n",
    "    fontfamily = \"sans-serif\")\n",
    "    plt.title('Click rate by ' + column + '\\n',\n",
    "    horizontalalignment=\"center\", fontstyle = \"normal\", \n",
    "    fontsize = \"18\", fontfamily = \"sans-serif\")\n",
    "    plt.legend(loc='upper right', fontsize = \"medium\")\n",
    "    plt.xticks(rotation=45, horizontalalignment=\"center\")\n",
    "    plt.yticks(rotation=0, horizontalalignment=\"right\")\n",
    "    ax.yaxis.set_major_formatter(mtick.PercentFormatter())\n",
    "    for p in ax.patches:\n",
    "        width, height = p.get_width(), p.get_height()\n",
    "        x, y = p.get_xy() \n",
    "        ax.text(x+width/2, \n",
    "                y+height/2, \n",
    "                '{:.0f}%'.format(height), \n",
    "                horizontalalignment='center', \n",
    "                verticalalignment='center')\n",
    "    ax.autoscale(enable=False, axis='both', tight=False)"
   ]
  },
  {
   "cell_type": "code",
   "execution_count": 26,
   "id": "bc1ff361",
   "metadata": {},
   "outputs": [],
   "source": [
    "features = ['Message_type', 'Message_TA', \n",
    "            'office_or_hospital_based', 'gender',\n",
    "            'is_cardiologist', 'is_gp', 'Message_read']"
   ]
  },
  {
   "cell_type": "code",
   "execution_count": 27,
   "id": "ca425f9a",
   "metadata": {
    "scrolled": false
   },
   "outputs": [
    {
     "data": {
      "text/plain": [
       "[None, None, None, None, None, None, None]"
      ]
     },
     "execution_count": 27,
     "metadata": {},
     "output_type": "execute_result"
    },
    {
     "data": {
      "image/png": "[encoded data removed]",
      "text/plain": [
       "<Figure size 600x300 with 1 Axes>"
      ]
     },
     "metadata": {},
     "output_type": "display_data"
    },
    {
     "data": {
      "image/png": "[encoded data removed]",
      "text/plain": [
       "<Figure size 600x300 with 1 Axes>"
      ]
     },
     "metadata": {},
     "output_type": "display_data"
    },
    {
     "data": {
      "image/png": "[encoded data removed]",
      "text/plain": [
       "<Figure size 600x300 with 1 Axes>"
      ]
     },
     "metadata": {},
     "output_type": "display_data"
    },
    {
     "data": {
      "image/png": "[encoded data removed]",
      "text/plain": [
       "<Figure size 600x300 with 1 Axes>"
      ]
     },
     "metadata": {},
     "output_type": "display_data"
    },
    {
     "data": {
      "image/png": "[encoded data removed]",
      "text/plain": [
       "<Figure size 600x300 with 1 Axes>"
      ]
     },
     "metadata": {},
     "output_type": "display_data"
    },
    {
     "data": {
      "image/png": "[encoded data removed]",
      "text/plain": [
       "<Figure size 600x300 with 1 Axes>"
      ]
     },
     "metadata": {},
     "output_type": "display_data"
    },
    {
     "data": {
      "image/png": "[encoded data removed]",
      "text/plain": [
       "<Figure size 600x300 with 1 Axes>"
      ]
     },
     "metadata": {},
     "output_type": "display_data"
    }
   ],
   "source": [
    "[click_rate_by(column) for column in features]"
   ]
  },
  {
   "cell_type": "markdown",
   "id": "a7e13d31",
   "metadata": {},
   "source": [
    "Finally, in order to develop an algorithm to recommend to the company how to interact with HCPs in terms of newsletter and messages, it is important to **understand which variables are related to the newsletters and messages and which ones are descriptive information to characterize HCPs.**\n",
    "\n",
    "As we see we have information of **30 newsletters, each of them containing up to 8 different messages of different types**. The creation time of both newsletter and message are also provided."
   ]
  },
  {
   "cell_type": "code",
   "execution_count": 28,
   "id": "412db2d7",
   "metadata": {},
   "outputs": [
    {
     "data": {
      "text/plain": [
       "Text(0.5, 1.0, 'Number of messages per newsletter')"
      ]
     },
     "execution_count": 28,
     "metadata": {},
     "output_type": "execute_result"
    },
    {
     "data": {
      "image/png": "[encoded data removed]",
      "text/plain": [
       "<Figure size 640x480 with 1 Axes>"
      ]
     },
     "metadata": {},
     "output_type": "display_data"
    }
   ],
   "source": [
    "df.groupby(['news_id']).Message_id.nunique().plot(kind=\"bar\", color='#24bfeb').set_title('Number of messages per newsletter')"
   ]
  },
  {
   "cell_type": "code",
   "execution_count": 29,
   "id": "584ed163",
   "metadata": {},
   "outputs": [
    {
     "data": {
      "text/html": [
       "<div>\n",
       "<style scoped>\n",
       "    .dataframe tbody tr th:only-of-type {\n",
       "        vertical-align: middle;\n",
       "    }\n",
       "\n",
       "    .dataframe tbody tr th {\n",
       "        vertical-align: top;\n",
       "    }\n",
       "\n",
       "    .dataframe thead th {\n",
       "        text-align: right;\n",
       "    }\n",
       "</style>\n",
       "<table border=\"1\" class=\"dataframe\">\n",
       "  <thead>\n",
       "    <tr style=\"text-align: right;\">\n",
       "      <th></th>\n",
       "      <th></th>\n",
       "      <th></th>\n",
       "      <th></th>\n",
       "      <th></th>\n",
       "      <th>HCP_id</th>\n",
       "      <th>Message_creation_date</th>\n",
       "      <th>news_date</th>\n",
       "      <th>office_or_hospital_based</th>\n",
       "      <th>gender</th>\n",
       "      <th>is_cardiologist</th>\n",
       "      <th>is_gp</th>\n",
       "      <th>years_since_graduation</th>\n",
       "      <th>Message_read</th>\n",
       "    </tr>\n",
       "    <tr>\n",
       "      <th>news_id</th>\n",
       "      <th>Message_id</th>\n",
       "      <th>Message_type</th>\n",
       "      <th>Message_TA</th>\n",
       "      <th>Message_click</th>\n",
       "      <th></th>\n",
       "      <th></th>\n",
       "      <th></th>\n",
       "      <th></th>\n",
       "      <th></th>\n",
       "      <th></th>\n",
       "      <th></th>\n",
       "      <th></th>\n",
       "      <th></th>\n",
       "    </tr>\n",
       "  </thead>\n",
       "  <tbody>\n",
       "    <tr>\n",
       "      <th rowspan=\"5\" valign=\"top\">1</th>\n",
       "      <th rowspan=\"2\" valign=\"top\">1</th>\n",
       "      <th rowspan=\"2\" valign=\"top\">Service / Applications</th>\n",
       "      <th rowspan=\"2\" valign=\"top\">Else</th>\n",
       "      <th>0</th>\n",
       "      <td>398</td>\n",
       "      <td>398</td>\n",
       "      <td>398</td>\n",
       "      <td>398</td>\n",
       "      <td>398</td>\n",
       "      <td>398</td>\n",
       "      <td>398</td>\n",
       "      <td>398</td>\n",
       "      <td>398</td>\n",
       "    </tr>\n",
       "    <tr>\n",
       "      <th>1</th>\n",
       "      <td>136</td>\n",
       "      <td>136</td>\n",
       "      <td>136</td>\n",
       "      <td>136</td>\n",
       "      <td>136</td>\n",
       "      <td>136</td>\n",
       "      <td>136</td>\n",
       "      <td>136</td>\n",
       "      <td>136</td>\n",
       "    </tr>\n",
       "    <tr>\n",
       "      <th rowspan=\"2\" valign=\"top\">2</th>\n",
       "      <th rowspan=\"2\" valign=\"top\">Product launch</th>\n",
       "      <th rowspan=\"2\" valign=\"top\">Ophtalmology</th>\n",
       "      <th>0</th>\n",
       "      <td>387</td>\n",
       "      <td>387</td>\n",
       "      <td>387</td>\n",
       "      <td>387</td>\n",
       "      <td>387</td>\n",
       "      <td>387</td>\n",
       "      <td>387</td>\n",
       "      <td>387</td>\n",
       "      <td>387</td>\n",
       "    </tr>\n",
       "    <tr>\n",
       "      <th>1</th>\n",
       "      <td>147</td>\n",
       "      <td>147</td>\n",
       "      <td>147</td>\n",
       "      <td>147</td>\n",
       "      <td>147</td>\n",
       "      <td>147</td>\n",
       "      <td>147</td>\n",
       "      <td>147</td>\n",
       "      <td>147</td>\n",
       "    </tr>\n",
       "    <tr>\n",
       "      <th>3</th>\n",
       "      <th>Clinical trial update</th>\n",
       "      <th>Else</th>\n",
       "      <th>0</th>\n",
       "      <td>414</td>\n",
       "      <td>414</td>\n",
       "      <td>414</td>\n",
       "      <td>414</td>\n",
       "      <td>414</td>\n",
       "      <td>414</td>\n",
       "      <td>414</td>\n",
       "      <td>414</td>\n",
       "      <td>414</td>\n",
       "    </tr>\n",
       "    <tr>\n",
       "      <th>...</th>\n",
       "      <th>...</th>\n",
       "      <th>...</th>\n",
       "      <th>...</th>\n",
       "      <th>...</th>\n",
       "      <td>...</td>\n",
       "      <td>...</td>\n",
       "      <td>...</td>\n",
       "      <td>...</td>\n",
       "      <td>...</td>\n",
       "      <td>...</td>\n",
       "      <td>...</td>\n",
       "      <td>...</td>\n",
       "      <td>...</td>\n",
       "    </tr>\n",
       "    <tr>\n",
       "      <th>29</th>\n",
       "      <th>98</th>\n",
       "      <th>Service / Applications</th>\n",
       "      <th>Oncology</th>\n",
       "      <th>1</th>\n",
       "      <td>151</td>\n",
       "      <td>151</td>\n",
       "      <td>151</td>\n",
       "      <td>151</td>\n",
       "      <td>151</td>\n",
       "      <td>151</td>\n",
       "      <td>151</td>\n",
       "      <td>151</td>\n",
       "      <td>151</td>\n",
       "    </tr>\n",
       "    <tr>\n",
       "      <th rowspan=\"4\" valign=\"top\">30</th>\n",
       "      <th rowspan=\"2\" valign=\"top\">99</th>\n",
       "      <th rowspan=\"2\" valign=\"top\">Clinical trial update</th>\n",
       "      <th rowspan=\"2\" valign=\"top\">Global</th>\n",
       "      <th>0</th>\n",
       "      <td>426</td>\n",
       "      <td>426</td>\n",
       "      <td>426</td>\n",
       "      <td>426</td>\n",
       "      <td>426</td>\n",
       "      <td>426</td>\n",
       "      <td>426</td>\n",
       "      <td>426</td>\n",
       "      <td>426</td>\n",
       "    </tr>\n",
       "    <tr>\n",
       "      <th>1</th>\n",
       "      <td>135</td>\n",
       "      <td>135</td>\n",
       "      <td>135</td>\n",
       "      <td>135</td>\n",
       "      <td>135</td>\n",
       "      <td>135</td>\n",
       "      <td>135</td>\n",
       "      <td>135</td>\n",
       "      <td>135</td>\n",
       "    </tr>\n",
       "    <tr>\n",
       "      <th rowspan=\"2\" valign=\"top\">100</th>\n",
       "      <th rowspan=\"2\" valign=\"top\">Product launch</th>\n",
       "      <th rowspan=\"2\" valign=\"top\">Else</th>\n",
       "      <th>0</th>\n",
       "      <td>420</td>\n",
       "      <td>420</td>\n",
       "      <td>420</td>\n",
       "      <td>420</td>\n",
       "      <td>420</td>\n",
       "      <td>420</td>\n",
       "      <td>420</td>\n",
       "      <td>420</td>\n",
       "      <td>420</td>\n",
       "    </tr>\n",
       "    <tr>\n",
       "      <th>1</th>\n",
       "      <td>141</td>\n",
       "      <td>141</td>\n",
       "      <td>141</td>\n",
       "      <td>141</td>\n",
       "      <td>141</td>\n",
       "      <td>141</td>\n",
       "      <td>141</td>\n",
       "      <td>141</td>\n",
       "      <td>141</td>\n",
       "    </tr>\n",
       "  </tbody>\n",
       "</table>\n",
       "<p>200 rows × 9 columns</p>\n",
       "</div>"
      ],
      "text/plain": [
       "                                                                      HCP_id  \\\n",
       "news_id Message_id Message_type           Message_TA   Message_click           \n",
       "1       1          Service / Applications Else         0                 398   \n",
       "                                                       1                 136   \n",
       "        2          Product launch         Ophtalmology 0                 387   \n",
       "                                                       1                 147   \n",
       "        3          Clinical trial update  Else         0                 414   \n",
       "...                                                                      ...   \n",
       "29      98         Service / Applications Oncology     1                 151   \n",
       "30      99         Clinical trial update  Global       0                 426   \n",
       "                                                       1                 135   \n",
       "        100        Product launch         Else         0                 420   \n",
       "                                                       1                 141   \n",
       "\n",
       "                                                                      Message_creation_date  \\\n",
       "news_id Message_id Message_type           Message_TA   Message_click                          \n",
       "1       1          Service / Applications Else         0                                398   \n",
       "                                                       1                                136   \n",
       "        2          Product launch         Ophtalmology 0                                387   \n",
       "                                                       1                                147   \n",
       "        3          Clinical trial update  Else         0                                414   \n",
       "...                                                                                     ...   \n",
       "29      98         Service / Applications Oncology     1                                151   \n",
       "30      99         Clinical trial update  Global       0                                426   \n",
       "                                                       1                                135   \n",
       "        100        Product launch         Else         0                                420   \n",
       "                                                       1                                141   \n",
       "\n",
       "                                                                      news_date  \\\n",
       "news_id Message_id Message_type           Message_TA   Message_click              \n",
       "1       1          Service / Applications Else         0                    398   \n",
       "                                                       1                    136   \n",
       "        2          Product launch         Ophtalmology 0                    387   \n",
       "                                                       1                    147   \n",
       "        3          Clinical trial update  Else         0                    414   \n",
       "...                                                                         ...   \n",
       "29      98         Service / Applications Oncology     1                    151   \n",
       "30      99         Clinical trial update  Global       0                    426   \n",
       "                                                       1                    135   \n",
       "        100        Product launch         Else         0                    420   \n",
       "                                                       1                    141   \n",
       "\n",
       "                                                                      office_or_hospital_based  \\\n",
       "news_id Message_id Message_type           Message_TA   Message_click                             \n",
       "1       1          Service / Applications Else         0                                   398   \n",
       "                                                       1                                   136   \n",
       "        2          Product launch         Ophtalmology 0                                   387   \n",
       "                                                       1                                   147   \n",
       "        3          Clinical trial update  Else         0                                   414   \n",
       "...                                                                                        ...   \n",
       "29      98         Service / Applications Oncology     1                                   151   \n",
       "30      99         Clinical trial update  Global       0                                   426   \n",
       "                                                       1                                   135   \n",
       "        100        Product launch         Else         0                                   420   \n",
       "                                                       1                                   141   \n",
       "\n",
       "                                                                      gender  \\\n",
       "news_id Message_id Message_type           Message_TA   Message_click           \n",
       "1       1          Service / Applications Else         0                 398   \n",
       "                                                       1                 136   \n",
       "        2          Product launch         Ophtalmology 0                 387   \n",
       "                                                       1                 147   \n",
       "        3          Clinical trial update  Else         0                 414   \n",
       "...                                                                      ...   \n",
       "29      98         Service / Applications Oncology     1                 151   \n",
       "30      99         Clinical trial update  Global       0                 426   \n",
       "                                                       1                 135   \n",
       "        100        Product launch         Else         0                 420   \n",
       "                                                       1                 141   \n",
       "\n",
       "                                                                      is_cardiologist  \\\n",
       "news_id Message_id Message_type           Message_TA   Message_click                    \n",
       "1       1          Service / Applications Else         0                          398   \n",
       "                                                       1                          136   \n",
       "        2          Product launch         Ophtalmology 0                          387   \n",
       "                                                       1                          147   \n",
       "        3          Clinical trial update  Else         0                          414   \n",
       "...                                                                               ...   \n",
       "29      98         Service / Applications Oncology     1                          151   \n",
       "30      99         Clinical trial update  Global       0                          426   \n",
       "                                                       1                          135   \n",
       "        100        Product launch         Else         0                          420   \n",
       "                                                       1                          141   \n",
       "\n",
       "                                                                      is_gp  \\\n",
       "news_id Message_id Message_type           Message_TA   Message_click          \n",
       "1       1          Service / Applications Else         0                398   \n",
       "                                                       1                136   \n",
       "        2          Product launch         Ophtalmology 0                387   \n",
       "                                                       1                147   \n",
       "        3          Clinical trial update  Else         0                414   \n",
       "...                                                                     ...   \n",
       "29      98         Service / Applications Oncology     1                151   \n",
       "30      99         Clinical trial update  Global       0                426   \n",
       "                                                       1                135   \n",
       "        100        Product launch         Else         0                420   \n",
       "                                                       1                141   \n",
       "\n",
       "                                                                      years_since_graduation  \\\n",
       "news_id Message_id Message_type           Message_TA   Message_click                           \n",
       "1       1          Service / Applications Else         0                                 398   \n",
       "                                                       1                                 136   \n",
       "        2          Product launch         Ophtalmology 0                                 387   \n",
       "                                                       1                                 147   \n",
       "        3          Clinical trial update  Else         0                                 414   \n",
       "...                                                                                      ...   \n",
       "29      98         Service / Applications Oncology     1                                 151   \n",
       "30      99         Clinical trial update  Global       0                                 426   \n",
       "                                                       1                                 135   \n",
       "        100        Product launch         Else         0                                 420   \n",
       "                                                       1                                 141   \n",
       "\n",
       "                                                                      Message_read  \n",
       "news_id Message_id Message_type           Message_TA   Message_click                \n",
       "1       1          Service / Applications Else         0                       398  \n",
       "                                                       1                       136  \n",
       "        2          Product launch         Ophtalmology 0                       387  \n",
       "                                                       1                       147  \n",
       "        3          Clinical trial update  Else         0                       414  \n",
       "...                                                                            ...  \n",
       "29      98         Service / Applications Oncology     1                       151  \n",
       "30      99         Clinical trial update  Global       0                       426  \n",
       "                                                       1                       135  \n",
       "        100        Product launch         Else         0                       420  \n",
       "                                                       1                       141  \n",
       "\n",
       "[200 rows x 9 columns]"
      ]
     },
     "execution_count": 29,
     "metadata": {},
     "output_type": "execute_result"
    }
   ],
   "source": [
    "df.groupby(['news_id', 'Message_id', 'Message_type', 'Message_TA', 'Message_click']).count()"
   ]
  },
  {
   "cell_type": "markdown",
   "id": "44186686",
   "metadata": {},
   "source": [
    "### 2.2.3 Missing data <a class=\"anchor\" id=\"section_2_2_3\"></a>"
   ]
  },
  {
   "cell_type": "markdown",
   "id": "231b3aa7",
   "metadata": {},
   "source": [
    "#### 2.2.3.1 Numerical columns <a class=\"anchor\" id=\"sub_section_2_2_3_1\"></a>\n",
    "We have missing values in some of the numeric columns of the dataset. We will **fill** their **missing values with average of each column.**"
   ]
  },
  {
   "cell_type": "code",
   "execution_count": 30,
   "id": "54d1be53",
   "metadata": {},
   "outputs": [],
   "source": [
    "def filling_nulls_with_mean(df):\n",
    "    na_cols = df.isna().any()\n",
    "    na_cols = na_cols[na_cols == True].reset_index()\n",
    "    na_cols = na_cols[\"index\"].tolist()\n",
    "    print('Columns with null values: ', na_cols)\n",
    "    for col in df.columns[1:]:\n",
    "         if col in na_cols:\n",
    "            if df[col].dtype != 'object':\n",
    "                 df[col] =  df[col].fillna(df[col].mean()).round(0)\n",
    "    return df"
   ]
  },
  {
   "cell_type": "code",
   "execution_count": 31,
   "id": "9d611405",
   "metadata": {},
   "outputs": [
    {
     "name": "stdout",
     "output_type": "stream",
     "text": [
      "Columns with null values:  ['office_or_hospital_based', 'years_since_graduation']\n"
     ]
    }
   ],
   "source": [
    "df = filling_nulls_with_mean(df)"
   ]
  },
  {
   "cell_type": "markdown",
   "id": "21122c4d",
   "metadata": {},
   "source": [
    "Now we check that the numerical columns with null values have been filled"
   ]
  },
  {
   "cell_type": "code",
   "execution_count": 32,
   "id": "9fe3e226",
   "metadata": {},
   "outputs": [
    {
     "data": {
      "text/plain": [
       "HCP_id                      False\n",
       "news_id                     False\n",
       "Message_id                  False\n",
       "Message_type                False\n",
       "Message_creation_date       False\n",
       "Message_TA                  False\n",
       "news_date                   False\n",
       "office_or_hospital_based    False\n",
       "gender                      False\n",
       "is_cardiologist             False\n",
       "is_gp                       False\n",
       "years_since_graduation      False\n",
       "Message_read                False\n",
       "Message_click               False\n",
       "dtype: bool"
      ]
     },
     "execution_count": 32,
     "metadata": {},
     "output_type": "execute_result"
    }
   ],
   "source": [
    "df.isna().any()"
   ]
  },
  {
   "cell_type": "markdown",
   "id": "3057c8f2",
   "metadata": {},
   "source": [
    "### 2.2.4 Outlier detection  <a class=\"anchor\" id=\"section_2_2_4\"></a>\n",
    "There are multiple reasons why there can be outliers in the dataset, like Human errors(Wrong data entry), Measurement errors(System/Tool error), Data manipulation error(Faulty data preprocessing error), Sampling errors(creating samples from heterogeneous sources), etc. Detecting and treating these Outliers is important for learning a robust and generalizable machine learning system.\n",
    "\n",
    "We will review briefly the most used outlier detection techniques:\n",
    "\n",
    "- **Z-score**: The Z-score(also called the standard score) is an important concept in statistics that indicates how far away a certain point is from the mean. By applying Z-transformation we shift the distribution and make it 0 mean with unit standard deviation. For example — A Z-score of 2 would mean the data point is 2 standard deviation away from the mean. It assumes that the data is normally distributed and hence the % of data points that lie between -/+1 stdev. is ~68%, -/+2 stdev. is ~95% and -/+3 stdev. is ~99.7%. Hence, if the Z-score is >3 we can safely mark that point to be an outlier.\n",
    "\n",
    "\n",
    "- **Inter-Quartile Range Method**: The interquartile range method, best shown using a box plot, divides data into quartiles by defining three points:\n",
    "\n",
    "    - Quartile 1 (Q1) represents 25th percentile\n",
    "    - Quartile 2 (Q2) represents 50th percentile\n",
    "    - Quartile 3 (Q3) represents 75th percentile\n",
    "\n",
    "    The box in the boxplot represents the IQR range which is defined as the range between Q1 and Q3; IQR = Q3 — Q1 and data points that fall below Q1 - 1.5*IQR or above Q3 + 1.5*IQR are defined as outliers.\n",
    "    \n",
    "- **Automatic Outlier Detection**: In machine learning, an approach to tackling the problem of outlier detection is one-class classification. One-Class Classification, or OCC for short, involves fitting a model on the 'normal' data and predicting whether new data is normal or an outlier/anomaly. Examples of this are:\n",
    "    - Local Outlier Factor\n",
    "    - Isolation Forest\n",
    "\n",
    "\n"
   ]
  },
  {
   "cell_type": "code",
   "execution_count": 33,
   "id": "c7bee241",
   "metadata": {},
   "outputs": [],
   "source": [
    "numerical_features = df.select_dtypes(include=['float64', 'int64']).columns.to_list()"
   ]
  },
  {
   "cell_type": "code",
   "execution_count": 34,
   "id": "df442e94",
   "metadata": {},
   "outputs": [],
   "source": [
    "numerical_df = df[numerical_features]\n",
    "outlier_df = numerical_df[(np.abs(stats.zscore(numerical_df)) < 3).all(axis=1)]"
   ]
  },
  {
   "cell_type": "code",
   "execution_count": 35,
   "id": "75daf8bf",
   "metadata": {},
   "outputs": [],
   "source": [
    "df = pd.merge(df, outlier_df, how='inner')"
   ]
  },
  {
   "cell_type": "markdown",
   "id": "862f2d94",
   "metadata": {},
   "source": [
    "#### 2.2.5 Categorical features <a class=\"anchor\" id=\"section_2_2_5\"></a>\n",
    "\n",
    "In this case we are dealing with multiple categorical features can assume that **all variables are nominal**, which basicly means that do not have a particular order so I will opt for **One-hot Encoding** or Frequency Encoding.\n"
   ]
  },
  {
   "cell_type": "code",
   "execution_count": 36,
   "id": "62bfcd0d",
   "metadata": {},
   "outputs": [
    {
     "data": {
      "text/plain": [
       "['Message_type', 'Message_TA']"
      ]
     },
     "execution_count": 36,
     "metadata": {},
     "output_type": "execute_result"
    }
   ],
   "source": [
    "categorical_features"
   ]
  },
  {
   "cell_type": "markdown",
   "id": "a72a8be6",
   "metadata": {},
   "source": [
    "#### 2.2.5.1 Identify unique values <a class=\"anchor\" id=\"sub_section_2_2_5_1\"></a>\n",
    "\n",
    "We have 3 different categorical column in the dataset. First of all, let's see how many different values take each category in order to choose the best treatment for each of them. As the number of possibilities are up to 6, we will apply One-Hot encoding."
   ]
  },
  {
   "cell_type": "code",
   "execution_count": 37,
   "id": "7c86bac6",
   "metadata": {},
   "outputs": [
    {
     "name": "stdout",
     "output_type": "stream",
     "text": [
      "Number of different Message_type: 6\n",
      "Number of different Message_TA: 5\n"
     ]
    }
   ],
   "source": [
    "for feat in categorical_features:\n",
    "    print('Number of different ' + feat + ':', df[feat].nunique())"
   ]
  },
  {
   "cell_type": "markdown",
   "id": "761d0487",
   "metadata": {},
   "source": [
    "#### 2.2.5.2 One-Hot encoding <a class=\"anchor\" id=\"sub_section_2_2_5_2\"></a>"
   ]
  },
  {
   "cell_type": "markdown",
   "id": "27940bc7",
   "metadata": {},
   "source": [
    "we are ready to apply **pandas get_dummies() method** to get dummy variables."
   ]
  },
  {
   "cell_type": "code",
   "execution_count": 38,
   "id": "c3ef756b",
   "metadata": {},
   "outputs": [],
   "source": [
    "df = pd.get_dummies(df, columns=categorical_features)\n",
    "df.columns = df.columns.str.replace(' ', '').str.strip().str.lower()"
   ]
  },
  {
   "cell_type": "code",
   "execution_count": 39,
   "id": "1c74d698",
   "metadata": {},
   "outputs": [
    {
     "data": {
      "text/html": [
       "<div>\n",
       "<style scoped>\n",
       "    .dataframe tbody tr th:only-of-type {\n",
       "        vertical-align: middle;\n",
       "    }\n",
       "\n",
       "    .dataframe tbody tr th {\n",
       "        vertical-align: top;\n",
       "    }\n",
       "\n",
       "    .dataframe thead th {\n",
       "        text-align: right;\n",
       "    }\n",
       "</style>\n",
       "<table border=\"1\" class=\"dataframe\">\n",
       "  <thead>\n",
       "    <tr style=\"text-align: right;\">\n",
       "      <th></th>\n",
       "      <th>hcp_id</th>\n",
       "      <th>news_id</th>\n",
       "      <th>message_id</th>\n",
       "      <th>message_creation_date</th>\n",
       "      <th>news_date</th>\n",
       "      <th>office_or_hospital_based</th>\n",
       "      <th>gender</th>\n",
       "      <th>is_cardiologist</th>\n",
       "      <th>is_gp</th>\n",
       "      <th>years_since_graduation</th>\n",
       "      <th>message_read</th>\n",
       "      <th>message_click</th>\n",
       "      <th>message_type_biotech</th>\n",
       "      <th>message_type_clinicaltrialupdate</th>\n",
       "      <th>message_type_medicalstudy</th>\n",
       "      <th>message_type_productlaunch</th>\n",
       "      <th>message_type_service/applications</th>\n",
       "      <th>message_type_webinar</th>\n",
       "      <th>message_ta_cardiovascular</th>\n",
       "      <th>message_ta_else</th>\n",
       "      <th>message_ta_global</th>\n",
       "      <th>message_ta_oncology</th>\n",
       "      <th>message_ta_ophtalmology</th>\n",
       "    </tr>\n",
       "  </thead>\n",
       "  <tbody>\n",
       "    <tr>\n",
       "      <th>0</th>\n",
       "      <td>3569</td>\n",
       "      <td>22</td>\n",
       "      <td>71</td>\n",
       "      <td>10/12/19</td>\n",
       "      <td>8/9/20</td>\n",
       "      <td>1.0</td>\n",
       "      <td>0</td>\n",
       "      <td>1</td>\n",
       "      <td>0</td>\n",
       "      <td>10.0</td>\n",
       "      <td>1</td>\n",
       "      <td>0</td>\n",
       "      <td>1</td>\n",
       "      <td>0</td>\n",
       "      <td>0</td>\n",
       "      <td>0</td>\n",
       "      <td>0</td>\n",
       "      <td>0</td>\n",
       "      <td>1</td>\n",
       "      <td>0</td>\n",
       "      <td>0</td>\n",
       "      <td>0</td>\n",
       "      <td>0</td>\n",
       "    </tr>\n",
       "    <tr>\n",
       "      <th>1</th>\n",
       "      <td>3569</td>\n",
       "      <td>22</td>\n",
       "      <td>70</td>\n",
       "      <td>7/31/18</td>\n",
       "      <td>8/9/20</td>\n",
       "      <td>1.0</td>\n",
       "      <td>0</td>\n",
       "      <td>1</td>\n",
       "      <td>0</td>\n",
       "      <td>10.0</td>\n",
       "      <td>0</td>\n",
       "      <td>0</td>\n",
       "      <td>1</td>\n",
       "      <td>0</td>\n",
       "      <td>0</td>\n",
       "      <td>0</td>\n",
       "      <td>0</td>\n",
       "      <td>0</td>\n",
       "      <td>0</td>\n",
       "      <td>0</td>\n",
       "      <td>1</td>\n",
       "      <td>0</td>\n",
       "      <td>0</td>\n",
       "    </tr>\n",
       "    <tr>\n",
       "      <th>2</th>\n",
       "      <td>5941</td>\n",
       "      <td>22</td>\n",
       "      <td>70</td>\n",
       "      <td>7/31/18</td>\n",
       "      <td>8/9/20</td>\n",
       "      <td>1.0</td>\n",
       "      <td>1</td>\n",
       "      <td>1</td>\n",
       "      <td>0</td>\n",
       "      <td>10.0</td>\n",
       "      <td>1</td>\n",
       "      <td>1</td>\n",
       "      <td>1</td>\n",
       "      <td>0</td>\n",
       "      <td>0</td>\n",
       "      <td>0</td>\n",
       "      <td>0</td>\n",
       "      <td>0</td>\n",
       "      <td>0</td>\n",
       "      <td>0</td>\n",
       "      <td>1</td>\n",
       "      <td>0</td>\n",
       "      <td>0</td>\n",
       "    </tr>\n",
       "    <tr>\n",
       "      <th>3</th>\n",
       "      <td>5941</td>\n",
       "      <td>22</td>\n",
       "      <td>71</td>\n",
       "      <td>10/12/19</td>\n",
       "      <td>8/9/20</td>\n",
       "      <td>1.0</td>\n",
       "      <td>1</td>\n",
       "      <td>1</td>\n",
       "      <td>0</td>\n",
       "      <td>10.0</td>\n",
       "      <td>1</td>\n",
       "      <td>1</td>\n",
       "      <td>1</td>\n",
       "      <td>0</td>\n",
       "      <td>0</td>\n",
       "      <td>0</td>\n",
       "      <td>0</td>\n",
       "      <td>0</td>\n",
       "      <td>1</td>\n",
       "      <td>0</td>\n",
       "      <td>0</td>\n",
       "      <td>0</td>\n",
       "      <td>0</td>\n",
       "    </tr>\n",
       "    <tr>\n",
       "      <th>4</th>\n",
       "      <td>8262</td>\n",
       "      <td>5</td>\n",
       "      <td>19</td>\n",
       "      <td>10/12/18</td>\n",
       "      <td>7/22/20</td>\n",
       "      <td>0.0</td>\n",
       "      <td>1</td>\n",
       "      <td>1</td>\n",
       "      <td>0</td>\n",
       "      <td>10.0</td>\n",
       "      <td>0</td>\n",
       "      <td>0</td>\n",
       "      <td>1</td>\n",
       "      <td>0</td>\n",
       "      <td>0</td>\n",
       "      <td>0</td>\n",
       "      <td>0</td>\n",
       "      <td>0</td>\n",
       "      <td>1</td>\n",
       "      <td>0</td>\n",
       "      <td>0</td>\n",
       "      <td>0</td>\n",
       "      <td>0</td>\n",
       "    </tr>\n",
       "  </tbody>\n",
       "</table>\n",
       "</div>"
      ],
      "text/plain": [
       "   hcp_id  news_id  message_id message_creation_date news_date  \\\n",
       "0    3569       22          71              10/12/19    8/9/20   \n",
       "1    3569       22          70               7/31/18    8/9/20   \n",
       "2    5941       22          70               7/31/18    8/9/20   \n",
       "3    5941       22          71              10/12/19    8/9/20   \n",
       "4    8262        5          19              10/12/18   7/22/20   \n",
       "\n",
       "   office_or_hospital_based  gender  is_cardiologist  is_gp  \\\n",
       "0                       1.0       0                1      0   \n",
       "1                       1.0       0                1      0   \n",
       "2                       1.0       1                1      0   \n",
       "3                       1.0       1                1      0   \n",
       "4                       0.0       1                1      0   \n",
       "\n",
       "   years_since_graduation  message_read  message_click  message_type_biotech  \\\n",
       "0                    10.0             1              0                     1   \n",
       "1                    10.0             0              0                     1   \n",
       "2                    10.0             1              1                     1   \n",
       "3                    10.0             1              1                     1   \n",
       "4                    10.0             0              0                     1   \n",
       "\n",
       "   message_type_clinicaltrialupdate  message_type_medicalstudy  \\\n",
       "0                                 0                          0   \n",
       "1                                 0                          0   \n",
       "2                                 0                          0   \n",
       "3                                 0                          0   \n",
       "4                                 0                          0   \n",
       "\n",
       "   message_type_productlaunch  message_type_service/applications  \\\n",
       "0                           0                                  0   \n",
       "1                           0                                  0   \n",
       "2                           0                                  0   \n",
       "3                           0                                  0   \n",
       "4                           0                                  0   \n",
       "\n",
       "   message_type_webinar  message_ta_cardiovascular  message_ta_else  \\\n",
       "0                     0                          1                0   \n",
       "1                     0                          0                0   \n",
       "2                     0                          0                0   \n",
       "3                     0                          1                0   \n",
       "4                     0                          1                0   \n",
       "\n",
       "   message_ta_global  message_ta_oncology  message_ta_ophtalmology  \n",
       "0                  0                    0                        0  \n",
       "1                  1                    0                        0  \n",
       "2                  1                    0                        0  \n",
       "3                  0                    0                        0  \n",
       "4                  0                    0                        0  "
      ]
     },
     "execution_count": 39,
     "metadata": {},
     "output_type": "execute_result"
    }
   ],
   "source": [
    "df.head()"
   ]
  },
  {
   "cell_type": "markdown",
   "id": "f2b905a6",
   "metadata": {},
   "source": [
    "### 2.2.6 Feature engineering <a class=\"anchor\" id=\"section_2_2_6\"></a>"
   ]
  },
  {
   "cell_type": "markdown",
   "id": "e5222901",
   "metadata": {},
   "source": [
    "#### 2.2.6.1 Dates <a class=\"anchor\" id=\"section_2_2_6_1\"></a>"
   ]
  },
  {
   "cell_type": "code",
   "execution_count": 40,
   "id": "8d8e92a7",
   "metadata": {},
   "outputs": [],
   "source": [
    "def create_fe_dates(df: pd.DataFrame) -> pd.DataFrame:\n",
    "    \n",
    "    # convert to datetime\n",
    "    df['message_creation_date'] = pd.to_datetime(df['message_creation_date'])\n",
    "    df['news_date'] = pd.to_datetime(df['news_date'])\n",
    "\n",
    "    # create date year and month features\n",
    "    df['message_creation_year'] = df['message_creation_date'].dt.year\n",
    "    df['message_creation_month'] = df['message_creation_date'].dt.month\n",
    "    df['message_creation_day'] = df['message_creation_date'].dt.day\n",
    "    df['news_year'] = df['news_date'].dt.year\n",
    "    df['news_month'] = df['news_date'].dt.month\n",
    "    df['news_day'] = df['news_date'].dt.day\n",
    "\n",
    "  \n",
    "    # drop date columns\n",
    "    df.drop(['message_creation_date', 'news_date'], axis=1, inplace=True)\n",
    "    return df"
   ]
  },
  {
   "cell_type": "code",
   "execution_count": 41,
   "id": "832a82ff",
   "metadata": {},
   "outputs": [],
   "source": [
    "df = create_fe_dates(df)"
   ]
  },
  {
   "cell_type": "markdown",
   "id": "2167b9f7",
   "metadata": {},
   "source": [
    "## 2.3.  Model selection <a class=\"anchor\" id=\"section_2_3\"></a>\n"
   ]
  },
  {
   "cell_type": "markdown",
   "id": "01638c08",
   "metadata": {},
   "source": [
    "### 2.3.1 Initial considerations <a class=\"anchor\" id=\"section_2_3_1\"></a>"
   ]
  },
  {
   "cell_type": "markdown",
   "id": "487e191f",
   "metadata": {},
   "source": [
    "A **recommendation system is a machine learning-based approach that suggests items or content to users based on their previous interactions and preferences**. The goal of a recommendation system is to provide personalized suggestions to each user in order to improve their experience and increase engagement.\n",
    "\n",
    "**Types of recommendation systems**\n",
    "There are three main types of recommendation systems: content-based, collaborative and hybrid filtering.\n",
    "\n",
    "- **Content-based recommendation systems**: These systems recommend items based on the characteristics or features of the items themselves. For example, if a user likes action movies, a content-based recommendation system might suggest other action movies based on their genre, director, or actors.\n",
    "\n",
    "    One major problem of this approach is the diversity. Relevance is important, but it’s not all there is. If you watched and liked Star Wars, the odds are pretty good that you’ll also like The Empire Strikes Back, but you probably don’t need a recommendation engine to tell you that. It’s also important for a recommendation engine to come up with results that are novel (that is, stuff the user wasn’t expecting) and diverse (that is, stuff that represents a broad selection of their interests).\n",
    "\n",
    "\n",
    "- **Collaborative filtering recommendation systems**: These systems recommend items based on the similarities between users and their interactions with items. For example, if two users both liked the same movies, a collaborative filtering system might suggest movies that one of the users liked but the other has not seen yet.\n",
    "\n",
    "    The underlying assumption of the collaborative filtering approach is that if a person A has the same opinion as a person B on an issue, A is more likely to have B's opinion on a different issue than that of a randomly chosen person. Below is a picture of how collaborative filtering works\n",
    "\n",
    "    One major problem of collaborative filtering is \"cold start\". As we’ve seen, collaborative-filtering can be a powerful way of recommending items based on user history, but what if there is no user history? This is called the “cold start” problem, and it can apply both to new items and to new users. Items with lots of history get recommended a lot, while those without never make it into the recommendation engine, resulting in a positive feedback loop. At the same time, new users have no history and thus the system doesn’t have any good recommendations. \n",
    "    \n",
    "    \n",
    "- **Hybrid recommender system:** Hybrid recommender system is a special type of recommender system that combines both content and collaborative filtering method. One of the key benefits of a hybrid recommender system is its ability to overcome the cold-start problem, which occurs when a recommendation system has insufficient data about a new user to make accurate recommendations. By using a combination of algorithms, a hybrid recommender system can make recommendations based on both the user's preferences and the preferences of similar users, even when there is limited data available.\n",
    "    \n",
    "     \n",
    "    \n",
    "**Types of Data for building recommendation systems**: There are two kinds of data available for building a recommendation system. There are\n",
    "\n",
    "- **Explicit feedback**: Explicit feedback is the data about user explicit feedback(ratings etc) about a product. It tells directly that users like a product or not.\n",
    "\n",
    "- **Implicit feedback**: In implicit feedback, we don't have the data about how the user rates a product. Examples for implicit feedback are clicks, watched movies, played songs, purchases or assigned tags.\n",
    "\n",
    "\n",
    "\n",
    "**Choosing a Recommendation System for communications to HCPs**\n",
    "\n",
    "We don't have any ratings or equivalent matrix for determining if HCPs prescribe the product from the newsletter, so we get implicit feedback data, in this case if the HCP has read and/or clicked. So we are using implicit feedback data for recommendation system. \n",
    "\n",
    "We can't choose collaborative filtering because this will cause a cold start because a large portion of professionals have not been reached yet. Content filtering would not  be the best option either because we will not have diversity and most of them we don't have clear information about professionals for creating user feature matrix.\n",
    "\n",
    "Taking into consideration all the things mentioned above I think that the best approach for this problem is an hybrid model. It will combine both collaborative and content-based method and can make a robust recommendation by analysing professionals tags if they have and similar professionals interest. This will help us to solve both cold start and diversity problem.\n",
    "\n",
    "Now we see that a **hybrid model** could work for this problem. In this case we will use **lightFM algorithm**. To build a lightFM model we will use the **python LightFM library**. Official documentation: https://making.lyst.com/lightfm/docs/index.html\n",
    "\n",
    "The following paper covers widely the technical details of LightFM algorithm: https://arxiv.org/pdf/1507.08439.pdf"
   ]
  },
  {
   "cell_type": "markdown",
   "id": "358f7ed6",
   "metadata": {},
   "source": [
    "However, although I have opted for this first solution, **another possible approach could be applying client segmentation techniques.** \n",
    "\n",
    "I will explain this briefly: we could apply a **clustering algorithm such as Kmeans or DBScan** (taking the click and rate variables as predictors, because we do not know the target in this algorithms as they are unsupervised). After that, we could try to get statistical information of the clusters in terms of clicks rates. In this point we would know which are the 'good' clusters (with high click rates). We could try to analyze how are those clusters composed, getting the mean age, the type of content and so on...  This could provide us the knowledge of what are the best combinations of messages types and HCP characteristics, so we could send them more accurate emails.\n",
    "\n",
    "This approach is definitely l**ess direct than a recommendation system. However, it has the advantage that help us to understand the target clients**."
   ]
  },
  {
   "cell_type": "markdown",
   "id": "5de50dde",
   "metadata": {},
   "source": [
    "### 2.3.2 Metric selection <a class=\"anchor\" id=\"section_2_3_2\"></a>\n",
    "\n",
    "The most used metrics to evaluate the lightFm algorithm are:\n",
    "- **ROC AUC**: the probability that a randomly chosen positive example has a higher score than a randomly chosen negative example. A perfect score is 1.0.\n",
    "\n",
    "\n",
    "- **Precision at k**: Measure the precision at k metric for a model: the fraction of known positives in the first k positions of the ranked list of results. A perfect score is 1.0.\n",
    "\n",
    "\n",
    "- **Recall at k:** Measure the recall at k metric for a model: the number of positive items in the first k positions of the ranked list of results divided by the number of positive items in the test period. A perfect score is 1.0.\n",
    "\n",
    "\n",
    "- **Reciprocal rank:** Measure the reciprocal rank metric for a model: 1 / the rank of the highest ranked positive example. A perfect score is 1.0.\n",
    "\n",
    "Although it is quite interesting to know and understand all of them due to lack of time we will just use the first two"
   ]
  },
  {
   "cell_type": "markdown",
   "id": "990371c3",
   "metadata": {},
   "source": [
    "## 2.4 Implementation <a class=\"anchor\" id=\"section_2_4\"></a>"
   ]
  },
  {
   "cell_type": "markdown",
   "id": "070a796e",
   "metadata": {},
   "source": [
    "### Create target\n",
    "First of all we will create the target, e.g the metric to optimize (maximize in this case) as a weighted mean of 'Message_read' and 'Message_click'"
   ]
  },
  {
   "cell_type": "code",
   "execution_count": 42,
   "id": "91c1b7fa",
   "metadata": {},
   "outputs": [],
   "source": [
    "df['weighted_rating'] = df['message_read']*0.8 + df['message_click']*0.2"
   ]
  },
  {
   "cell_type": "markdown",
   "id": "ed8b3dcb",
   "metadata": {},
   "source": [
    "Now we will create the users features and item features (messages) in a format suitable for the algorithm. In this first step we will create a dictionary with the name of the columns as keys and all the possible values the variable can take as values"
   ]
  },
  {
   "cell_type": "markdown",
   "id": "7f44a331",
   "metadata": {},
   "source": [
    "### Creating user features"
   ]
  },
  {
   "cell_type": "code",
   "execution_count": 43,
   "id": "76aadba5",
   "metadata": {},
   "outputs": [],
   "source": [
    "feature_columns = ['hcp_id','office_or_hospital_based','gender','is_cardiologist','is_gp','years_since_graduation']"
   ]
  },
  {
   "cell_type": "code",
   "execution_count": 44,
   "id": "e8c626a9",
   "metadata": {},
   "outputs": [
    {
     "data": {
      "text/plain": [
       "['office_or_hospital_based:1.0',\n",
       " 'office_or_hospital_based:0.0',\n",
       " 'gender:0',\n",
       " 'gender:1',\n",
       " 'is_cardiologist:1']"
      ]
     },
     "execution_count": 44,
     "metadata": {},
     "output_type": "execute_result"
    }
   ],
   "source": [
    "users = df.loc[:, feature_columns].drop_duplicates(keep='first')\n",
    "\n",
    "uf = []\n",
    "col = ['office_or_hospital_based']*len(users.office_or_hospital_based.unique()) + ['gender']*len(users.gender.unique()) + ['is_cardiologist']*len(users.is_cardiologist.unique()) + ['is_gp']*len(users.is_gp.unique()) + ['years_since_graduation']*len(users.years_since_graduation.unique())\n",
    "unique_f = list(users.office_or_hospital_based.unique()) + list(users.gender.unique()) + list(users.is_cardiologist.unique()) + list(users.is_gp.unique()) + list(users.years_since_graduation.unique())\n",
    "\n",
    "for x,y in zip(col, unique_f):\n",
    "    res = str(x)+ \":\" +str(y)\n",
    "    uf.append(res)\n",
    "    \n",
    "uf[:5]"
   ]
  },
  {
   "cell_type": "code",
   "execution_count": 45,
   "id": "dbe59521",
   "metadata": {},
   "outputs": [
    {
     "data": {
      "text/plain": [
       "Index(['hcp_id', 'news_id', 'message_id', 'office_or_hospital_based', 'gender',\n",
       "       'is_cardiologist', 'is_gp', 'years_since_graduation', 'message_read',\n",
       "       'message_click', 'message_type_biotech',\n",
       "       'message_type_clinicaltrialupdate', 'message_type_medicalstudy',\n",
       "       'message_type_productlaunch', 'message_type_service/applications',\n",
       "       'message_type_webinar', 'message_ta_cardiovascular', 'message_ta_else',\n",
       "       'message_ta_global', 'message_ta_oncology', 'message_ta_ophtalmology',\n",
       "       'message_creation_year', 'message_creation_month',\n",
       "       'message_creation_day', 'news_year', 'news_month', 'news_day',\n",
       "       'weighted_rating'],\n",
       "      dtype='object')"
      ]
     },
     "execution_count": 45,
     "metadata": {},
     "output_type": "execute_result"
    }
   ],
   "source": [
    "df.columns"
   ]
  },
  {
   "cell_type": "markdown",
   "id": "ca57bed1",
   "metadata": {},
   "source": [
    "### Creating item features"
   ]
  },
  {
   "cell_type": "code",
   "execution_count": 43,
   "id": "f9982a76",
   "metadata": {},
   "outputs": [],
   "source": [
    "message_type_columns = ['message_type_biotech',\n",
    "       'message_type_clinicaltrialupdate', 'message_type_medicalstudy',\n",
    "       'message_type_productlaunch', 'message_type_service/applications',\n",
    "       'message_type_webinar', 'message_ta_cardiovascular', 'message_ta_else',\n",
    "       'message_ta_global', 'message_ta_oncology', 'message_ta_ophtalmology']\n",
    "\n",
    "message_dates_columns = ['message_creation_year', 'message_creation_month', 'message_creation_day', \n",
    "                 'news_year', 'news_month', 'news_day']\n",
    "\n",
    "item_columns = message_type_columns + message_dates_columns"
   ]
  },
  {
   "cell_type": "code",
   "execution_count": 44,
   "id": "0f458411",
   "metadata": {},
   "outputs": [
    {
     "data": {
      "text/plain": [
       "['message_type_biotech:1',\n",
       " 'message_type_biotech:0',\n",
       " 'message_type_clinicaltrialupdate:0',\n",
       " 'message_type_clinicaltrialupdate:1',\n",
       " 'message_type_medicalstudy:0']"
      ]
     },
     "execution_count": 44,
     "metadata": {},
     "output_type": "execute_result"
    }
   ],
   "source": [
    "messages = df.loc[:, item_columns].drop_duplicates(keep='first')\n",
    "\n",
    "itf = []\n",
    "col = []\n",
    "unique_f = []\n",
    "\n",
    "for item in item_columns:\n",
    "    col += [item]*len(messages[item].unique())\n",
    "    unique_f += list(messages[item].unique())\n",
    "\n",
    "for x,y in zip(col, unique_f):\n",
    "    res = str(x)+ \":\" +str(y)\n",
    "    itf.append(res)\n",
    "itf[:5]"
   ]
  },
  {
   "cell_type": "markdown",
   "id": "bf7d23cf",
   "metadata": {},
   "source": [
    "### Fitting the dataset"
   ]
  },
  {
   "cell_type": "code",
   "execution_count": 45,
   "id": "7842c195",
   "metadata": {},
   "outputs": [
    {
     "data": {
      "text/plain": [
       "(8348, 100)"
      ]
     },
     "execution_count": 45,
     "metadata": {},
     "output_type": "execute_result"
    }
   ],
   "source": [
    "dataset1 = Dataset()\n",
    "dataset1.fit(df['hcp_id'].unique(), # all the users\n",
    "             df['message_id'].unique(), # all the items\n",
    "             user_features  = uf,\n",
    "             item_features = itf)\n",
    "dataset1.interactions_shape()"
   ]
  },
  {
   "cell_type": "code",
   "execution_count": 46,
   "id": "81a895f9",
   "metadata": {},
   "outputs": [
    {
     "data": {
      "text/plain": [
       "(<8348x100 sparse matrix of type '<class 'numpy.int32'>'\n",
       " \twith 56317 stored elements in COOrdinate format>,\n",
       " <8348x100 sparse matrix of type '<class 'numpy.float32'>'\n",
       " \twith 56317 stored elements in COOrdinate format>)"
      ]
     },
     "execution_count": 46,
     "metadata": {},
     "output_type": "execute_result"
    }
   ],
   "source": [
    "# Using the calculated rating for the weights matrix\n",
    "(interactions, weights) = dataset1.build_interactions(df[['hcp_id', 'message_id', 'weighted_rating']].itertuples(index=False))\n",
    "interactions, weights\n",
    "\n",
    "#The interactions matrix tell us if at all the user interacted with an item and the weights matrix quantifies that particular interaction."
   ]
  },
  {
   "cell_type": "code",
   "execution_count": 47,
   "id": "91ecceee",
   "metadata": {},
   "outputs": [
    {
     "data": {
      "text/plain": [
       "matrix([[1, 1, 0, ..., 0, 0, 0],\n",
       "        [1, 1, 0, ..., 0, 0, 0],\n",
       "        [0, 0, 1, ..., 0, 0, 0],\n",
       "        ...,\n",
       "        [0, 0, 0, ..., 0, 0, 0],\n",
       "        [0, 0, 0, ..., 0, 0, 0],\n",
       "        [0, 0, 0, ..., 0, 0, 0]], dtype=int32)"
      ]
     },
     "execution_count": 47,
     "metadata": {},
     "output_type": "execute_result"
    }
   ],
   "source": [
    "interactions.todense()"
   ]
  },
  {
   "cell_type": "code",
   "execution_count": 48,
   "id": "2cc0c425",
   "metadata": {},
   "outputs": [
    {
     "data": {
      "text/plain": [
       "matrix([[0.8, 0. , 0. , ..., 0. , 0. , 0. ],\n",
       "        [1. , 1. , 0. , ..., 0. , 0. , 0. ],\n",
       "        [0. , 0. , 0. , ..., 0. , 0. , 0. ],\n",
       "        ...,\n",
       "        [0. , 0. , 0. , ..., 0. , 0. , 0. ],\n",
       "        [0. , 0. , 0. , ..., 0. , 0. , 0. ],\n",
       "        [0. , 0. , 0. , ..., 0. , 0. , 0. ]], dtype=float32)"
      ]
     },
     "execution_count": 48,
     "metadata": {},
     "output_type": "execute_result"
    }
   ],
   "source": [
    "weights.todense()"
   ]
  },
  {
   "cell_type": "markdown",
   "id": "c092514f",
   "metadata": {},
   "source": [
    "Now we will create the user and message features for each HCP id in the same format that we did before"
   ]
  },
  {
   "cell_type": "markdown",
   "id": "f95900f8",
   "metadata": {},
   "source": [
    "### Building user features"
   ]
  },
  {
   "cell_type": "code",
   "execution_count": 49,
   "id": "90cbf0a9",
   "metadata": {},
   "outputs": [],
   "source": [
    "def user_features_to_dict(my_list):\n",
    "    \"\"\"\n",
    "    Takes as input a list and prepends the columns names to respective values in the list.\n",
    "    For example: if my_list = [1,1,0,'del'],\n",
    "    resultant output = ['f1:1', 'f2:1', 'f3:0', 'loc:del']\n",
    "   \n",
    "    \"\"\"\n",
    "    result = []\n",
    "    ll = ['office_or_hospital_based:', 'gender:', 'is_cardiologist:', 'is_gp:', 'years_since_graduation:']\n",
    "    aa = my_list\n",
    "    for x,y in zip(ll,aa):\n",
    "        res = str(x) +\"\"+ str(y)\n",
    "        result.append(res)\n",
    "    return result"
   ]
  },
  {
   "cell_type": "code",
   "execution_count": 50,
   "id": "855aa874",
   "metadata": {},
   "outputs": [
    {
     "data": {
      "text/html": [
       "<div>\n",
       "<style scoped>\n",
       "    .dataframe tbody tr th:only-of-type {\n",
       "        vertical-align: middle;\n",
       "    }\n",
       "\n",
       "    .dataframe tbody tr th {\n",
       "        vertical-align: top;\n",
       "    }\n",
       "\n",
       "    .dataframe thead th {\n",
       "        text-align: right;\n",
       "    }\n",
       "</style>\n",
       "<table border=\"1\" class=\"dataframe\">\n",
       "  <thead>\n",
       "    <tr style=\"text-align: right;\">\n",
       "      <th></th>\n",
       "      <th>hcp_id</th>\n",
       "      <th>news_id</th>\n",
       "      <th>message_id</th>\n",
       "      <th>office_or_hospital_based</th>\n",
       "      <th>gender</th>\n",
       "      <th>is_cardiologist</th>\n",
       "      <th>is_gp</th>\n",
       "      <th>years_since_graduation</th>\n",
       "      <th>message_read</th>\n",
       "      <th>message_click</th>\n",
       "      <th>message_type_biotech</th>\n",
       "      <th>message_type_clinicaltrialupdate</th>\n",
       "      <th>message_type_medicalstudy</th>\n",
       "      <th>message_type_productlaunch</th>\n",
       "      <th>message_type_service/applications</th>\n",
       "      <th>message_type_webinar</th>\n",
       "      <th>message_ta_cardiovascular</th>\n",
       "      <th>message_ta_else</th>\n",
       "      <th>message_ta_global</th>\n",
       "      <th>message_ta_oncology</th>\n",
       "      <th>message_ta_ophtalmology</th>\n",
       "      <th>message_creation_year</th>\n",
       "      <th>message_creation_month</th>\n",
       "      <th>message_creation_day</th>\n",
       "      <th>news_year</th>\n",
       "      <th>news_month</th>\n",
       "      <th>news_day</th>\n",
       "      <th>weighted_rating</th>\n",
       "    </tr>\n",
       "  </thead>\n",
       "  <tbody>\n",
       "    <tr>\n",
       "      <th>0</th>\n",
       "      <td>3569</td>\n",
       "      <td>22</td>\n",
       "      <td>71</td>\n",
       "      <td>1.0</td>\n",
       "      <td>0.0</td>\n",
       "      <td>1.0</td>\n",
       "      <td>0.0</td>\n",
       "      <td>10.0</td>\n",
       "      <td>1</td>\n",
       "      <td>0</td>\n",
       "      <td>1</td>\n",
       "      <td>0</td>\n",
       "      <td>0</td>\n",
       "      <td>0</td>\n",
       "      <td>0</td>\n",
       "      <td>0</td>\n",
       "      <td>1</td>\n",
       "      <td>0</td>\n",
       "      <td>0</td>\n",
       "      <td>0</td>\n",
       "      <td>0</td>\n",
       "      <td>2019</td>\n",
       "      <td>10</td>\n",
       "      <td>12</td>\n",
       "      <td>2020</td>\n",
       "      <td>8</td>\n",
       "      <td>9</td>\n",
       "      <td>0.8</td>\n",
       "    </tr>\n",
       "    <tr>\n",
       "      <th>1</th>\n",
       "      <td>3569</td>\n",
       "      <td>22</td>\n",
       "      <td>70</td>\n",
       "      <td>1.0</td>\n",
       "      <td>0.0</td>\n",
       "      <td>1.0</td>\n",
       "      <td>0.0</td>\n",
       "      <td>10.0</td>\n",
       "      <td>0</td>\n",
       "      <td>0</td>\n",
       "      <td>1</td>\n",
       "      <td>0</td>\n",
       "      <td>0</td>\n",
       "      <td>0</td>\n",
       "      <td>0</td>\n",
       "      <td>0</td>\n",
       "      <td>0</td>\n",
       "      <td>0</td>\n",
       "      <td>1</td>\n",
       "      <td>0</td>\n",
       "      <td>0</td>\n",
       "      <td>2018</td>\n",
       "      <td>7</td>\n",
       "      <td>31</td>\n",
       "      <td>2020</td>\n",
       "      <td>8</td>\n",
       "      <td>9</td>\n",
       "      <td>0.0</td>\n",
       "    </tr>\n",
       "    <tr>\n",
       "      <th>2</th>\n",
       "      <td>5941</td>\n",
       "      <td>22</td>\n",
       "      <td>70</td>\n",
       "      <td>1.0</td>\n",
       "      <td>1.0</td>\n",
       "      <td>1.0</td>\n",
       "      <td>0.0</td>\n",
       "      <td>10.0</td>\n",
       "      <td>1</td>\n",
       "      <td>1</td>\n",
       "      <td>1</td>\n",
       "      <td>0</td>\n",
       "      <td>0</td>\n",
       "      <td>0</td>\n",
       "      <td>0</td>\n",
       "      <td>0</td>\n",
       "      <td>0</td>\n",
       "      <td>0</td>\n",
       "      <td>1</td>\n",
       "      <td>0</td>\n",
       "      <td>0</td>\n",
       "      <td>2018</td>\n",
       "      <td>7</td>\n",
       "      <td>31</td>\n",
       "      <td>2020</td>\n",
       "      <td>8</td>\n",
       "      <td>9</td>\n",
       "      <td>1.0</td>\n",
       "    </tr>\n",
       "    <tr>\n",
       "      <th>3</th>\n",
       "      <td>5941</td>\n",
       "      <td>22</td>\n",
       "      <td>71</td>\n",
       "      <td>1.0</td>\n",
       "      <td>1.0</td>\n",
       "      <td>1.0</td>\n",
       "      <td>0.0</td>\n",
       "      <td>10.0</td>\n",
       "      <td>1</td>\n",
       "      <td>1</td>\n",
       "      <td>1</td>\n",
       "      <td>0</td>\n",
       "      <td>0</td>\n",
       "      <td>0</td>\n",
       "      <td>0</td>\n",
       "      <td>0</td>\n",
       "      <td>1</td>\n",
       "      <td>0</td>\n",
       "      <td>0</td>\n",
       "      <td>0</td>\n",
       "      <td>0</td>\n",
       "      <td>2019</td>\n",
       "      <td>10</td>\n",
       "      <td>12</td>\n",
       "      <td>2020</td>\n",
       "      <td>8</td>\n",
       "      <td>9</td>\n",
       "      <td>1.0</td>\n",
       "    </tr>\n",
       "    <tr>\n",
       "      <th>4</th>\n",
       "      <td>8262</td>\n",
       "      <td>5</td>\n",
       "      <td>19</td>\n",
       "      <td>0.0</td>\n",
       "      <td>1.0</td>\n",
       "      <td>1.0</td>\n",
       "      <td>0.0</td>\n",
       "      <td>10.0</td>\n",
       "      <td>0</td>\n",
       "      <td>0</td>\n",
       "      <td>1</td>\n",
       "      <td>0</td>\n",
       "      <td>0</td>\n",
       "      <td>0</td>\n",
       "      <td>0</td>\n",
       "      <td>0</td>\n",
       "      <td>1</td>\n",
       "      <td>0</td>\n",
       "      <td>0</td>\n",
       "      <td>0</td>\n",
       "      <td>0</td>\n",
       "      <td>2018</td>\n",
       "      <td>10</td>\n",
       "      <td>12</td>\n",
       "      <td>2020</td>\n",
       "      <td>7</td>\n",
       "      <td>22</td>\n",
       "      <td>0.0</td>\n",
       "    </tr>\n",
       "  </tbody>\n",
       "</table>\n",
       "</div>"
      ],
      "text/plain": [
       "   hcp_id  news_id  message_id  office_or_hospital_based  gender  \\\n",
       "0    3569       22          71                       1.0     0.0   \n",
       "1    3569       22          70                       1.0     0.0   \n",
       "2    5941       22          70                       1.0     1.0   \n",
       "3    5941       22          71                       1.0     1.0   \n",
       "4    8262        5          19                       0.0     1.0   \n",
       "\n",
       "   is_cardiologist  is_gp  years_since_graduation  message_read  \\\n",
       "0              1.0    0.0                    10.0             1   \n",
       "1              1.0    0.0                    10.0             0   \n",
       "2              1.0    0.0                    10.0             1   \n",
       "3              1.0    0.0                    10.0             1   \n",
       "4              1.0    0.0                    10.0             0   \n",
       "\n",
       "   message_click  message_type_biotech  message_type_clinicaltrialupdate  \\\n",
       "0              0                     1                                 0   \n",
       "1              0                     1                                 0   \n",
       "2              1                     1                                 0   \n",
       "3              1                     1                                 0   \n",
       "4              0                     1                                 0   \n",
       "\n",
       "   message_type_medicalstudy  message_type_productlaunch  \\\n",
       "0                          0                           0   \n",
       "1                          0                           0   \n",
       "2                          0                           0   \n",
       "3                          0                           0   \n",
       "4                          0                           0   \n",
       "\n",
       "   message_type_service/applications  message_type_webinar  \\\n",
       "0                                  0                     0   \n",
       "1                                  0                     0   \n",
       "2                                  0                     0   \n",
       "3                                  0                     0   \n",
       "4                                  0                     0   \n",
       "\n",
       "   message_ta_cardiovascular  message_ta_else  message_ta_global  \\\n",
       "0                          1                0                  0   \n",
       "1                          0                0                  1   \n",
       "2                          0                0                  1   \n",
       "3                          1                0                  0   \n",
       "4                          1                0                  0   \n",
       "\n",
       "   message_ta_oncology  message_ta_ophtalmology  message_creation_year  \\\n",
       "0                    0                        0                   2019   \n",
       "1                    0                        0                   2018   \n",
       "2                    0                        0                   2018   \n",
       "3                    0                        0                   2019   \n",
       "4                    0                        0                   2018   \n",
       "\n",
       "   message_creation_month  message_creation_day  news_year  news_month  \\\n",
       "0                      10                    12       2020           8   \n",
       "1                       7                    31       2020           8   \n",
       "2                       7                    31       2020           8   \n",
       "3                      10                    12       2020           8   \n",
       "4                      10                    12       2020           7   \n",
       "\n",
       "   news_day  weighted_rating  \n",
       "0         9              0.8  \n",
       "1         9              0.0  \n",
       "2         9              1.0  \n",
       "3         9              1.0  \n",
       "4        22              0.0  "
      ]
     },
     "execution_count": 50,
     "metadata": {},
     "output_type": "execute_result"
    }
   ],
   "source": [
    "df.head()"
   ]
  },
  {
   "cell_type": "code",
   "execution_count": 51,
   "id": "468ad4b4",
   "metadata": {},
   "outputs": [],
   "source": [
    "user_features_original = df[['office_or_hospital_based', 'gender', 'is_cardiologist', 'is_gp', 'years_since_graduation']] \n",
    "user_features_original_list = [list(x) for x in user_features_original.values]\n",
    "\n",
    "user_feature_list  = [user_features_to_dict(item) for item in  user_features_original_list]"
   ]
  },
  {
   "cell_type": "code",
   "execution_count": 52,
   "id": "c61554e3",
   "metadata": {},
   "outputs": [
    {
     "name": "stdout",
     "output_type": "stream",
     "text": [
      "Final output: [['office_or_hospital_based:1.0', 'gender:0.0', 'is_cardiologist:1.0', 'is_gp:0.0', 'years_since_graduation:10.0'], ['office_or_hospital_based:1.0', 'gender:0.0', 'is_cardiologist:1.0', 'is_gp:0.0', 'years_since_graduation:10.0'], ['office_or_hospital_based:1.0', 'gender:1.0', 'is_cardiologist:1.0', 'is_gp:0.0', 'years_since_graduation:10.0'], ['office_or_hospital_based:1.0', 'gender:1.0', 'is_cardiologist:1.0', 'is_gp:0.0', 'years_since_graduation:10.0'], ['office_or_hospital_based:0.0', 'gender:1.0', 'is_cardiologist:1.0', 'is_gp:0.0', 'years_since_graduation:10.0']]\n"
     ]
    }
   ],
   "source": [
    "print(f'Final output: {user_feature_list[:5]}')"
   ]
  },
  {
   "cell_type": "markdown",
   "id": "9f34950b",
   "metadata": {},
   "source": [
    "Now we must associate each element of the feature_list with the corresponding user ids."
   ]
  },
  {
   "cell_type": "code",
   "execution_count": 120,
   "id": "653b550a",
   "metadata": {},
   "outputs": [
    {
     "data": {
      "text/plain": [
       "[(3569, 'office_or_hospital_based:1'),\n",
       " (3569, 'gender:1'),\n",
       " (5941, 'is_cardiologist:0'),\n",
       " (5941, 'is_gp:0'),\n",
       " (8262, 'years_since_graduation:25')]"
      ]
     },
     "execution_count": 120,
     "metadata": {},
     "output_type": "execute_result"
    }
   ],
   "source": [
    "user_tuple = list(zip(df.hcp_id, user_feature_list))\n",
    "user_tuple[:5]"
   ]
  },
  {
   "cell_type": "code",
   "execution_count": 54,
   "id": "60a14c4f",
   "metadata": {},
   "outputs": [
    {
     "data": {
      "text/plain": [
       "matrix([[1., 0., 0., ..., 0., 0., 0.],\n",
       "        [0., 1., 0., ..., 0., 0., 0.],\n",
       "        [0., 0., 1., ..., 0., 0., 0.],\n",
       "        ...,\n",
       "        [0., 0., 0., ..., 0., 0., 0.],\n",
       "        [0., 0., 0., ..., 0., 0., 0.],\n",
       "        [0., 0., 0., ..., 0., 0., 0.]], dtype=float32)"
      ]
     },
     "execution_count": 54,
     "metadata": {},
     "output_type": "execute_result"
    }
   ],
   "source": [
    "user_features = dataset1.build_user_features(user_tuple, normalize= False)\n",
    "user_features.todense()"
   ]
  },
  {
   "cell_type": "markdown",
   "id": "7157ce19",
   "metadata": {},
   "source": [
    "### Building item features"
   ]
  },
  {
   "cell_type": "code",
   "execution_count": 55,
   "id": "97fda5fc",
   "metadata": {},
   "outputs": [
    {
     "data": {
      "text/plain": [
       "['message_type_biotech:',\n",
       " 'message_type_clinicaltrialupdate:',\n",
       " 'message_type_medicalstudy:',\n",
       " 'message_type_productlaunch:',\n",
       " 'message_type_service/applications:',\n",
       " 'message_type_webinar:',\n",
       " 'message_ta_cardiovascular:',\n",
       " 'message_ta_else:',\n",
       " 'message_ta_global:',\n",
       " 'message_ta_oncology:',\n",
       " 'message_ta_ophtalmology:',\n",
       " 'message_creation_year:',\n",
       " 'message_creation_month:',\n",
       " 'message_creation_day:',\n",
       " 'news_year:',\n",
       " 'news_month:',\n",
       " 'news_day:']"
      ]
     },
     "execution_count": 55,
     "metadata": {},
     "output_type": "execute_result"
    }
   ],
   "source": [
    "item_features_dict_format = [item + ':' for item in item_columns]\n",
    "item_features_dict_format"
   ]
  },
  {
   "cell_type": "code",
   "execution_count": 56,
   "id": "75b099c4",
   "metadata": {},
   "outputs": [],
   "source": [
    "def item_features_to_dict(my_list):\n",
    "    \"\"\"\n",
    "    Takes as input a list and prepends the columns names to respective values in the list.\n",
    "    For example: if my_list = [1,1,0,'del'],\n",
    "    resultant output = ['f1:1', 'f2:1', 'f3:0', 'loc:del']\n",
    "   \n",
    "    \"\"\"\n",
    "    result = []\n",
    "    ll = item_features_dict_format\n",
    "    aa = my_list\n",
    "    for x,y in zip(ll,aa):\n",
    "        res = str(x) +\"\"+ str(y)\n",
    "        result.append(res)\n",
    "    return result"
   ]
  },
  {
   "cell_type": "code",
   "execution_count": 57,
   "id": "6e97d8bf",
   "metadata": {},
   "outputs": [],
   "source": [
    "item_features_original = messages[item_columns] \n",
    "\n",
    "item_features_original_list = [list(x) for x in item_features_original.values]\n",
    "\n",
    "item_feature_list  = [item_features_to_dict(item) for item in item_features_original_list]"
   ]
  },
  {
   "cell_type": "code",
   "execution_count": 58,
   "id": "bba267f2",
   "metadata": {},
   "outputs": [],
   "source": [
    "item_tuple = list(zip(df.message_id, item_feature_list))\n",
    "item_features = dataset1.build_item_features(item_tuple, normalize= False)"
   ]
  },
  {
   "cell_type": "code",
   "execution_count": 59,
   "id": "a1887b6e",
   "metadata": {},
   "outputs": [
    {
     "data": {
      "text/plain": [
       "matrix([[1., 0., 0., ..., 0., 0., 0.],\n",
       "        [0., 1., 0., ..., 0., 0., 0.],\n",
       "        [0., 0., 1., ..., 0., 0., 0.],\n",
       "        ...,\n",
       "        [0., 0., 0., ..., 0., 0., 0.],\n",
       "        [0., 0., 0., ..., 0., 0., 0.],\n",
       "        [0., 0., 0., ..., 0., 0., 0.]], dtype=float32)"
      ]
     },
     "execution_count": 59,
     "metadata": {},
     "output_type": "execute_result"
    }
   ],
   "source": [
    "item_features.todense()"
   ]
  },
  {
   "cell_type": "markdown",
   "id": "b620d848",
   "metadata": {},
   "source": [
    "### Mapping"
   ]
  },
  {
   "cell_type": "code",
   "execution_count": 118,
   "id": "9ff19320",
   "metadata": {},
   "outputs": [],
   "source": [
    "user_id_map, user_feature_map, item_id_map, item_feature_map = dataset1.mapping()\n",
    "#dataset1.mapping()"
   ]
  },
  {
   "cell_type": "markdown",
   "id": "02535d64",
   "metadata": {},
   "source": [
    "### Training the model"
   ]
  },
  {
   "cell_type": "markdown",
   "id": "a2460231",
   "metadata": {},
   "source": [
    "First of all let's **break the dataset into Train and Test in order to perform Cross validation** to have a more precise overview of the models performance by comparing metrics in both train and test set"
   ]
  },
  {
   "cell_type": "code",
   "execution_count": 113,
   "id": "99b10466",
   "metadata": {},
   "outputs": [],
   "source": [
    "train, test = cross_validation.random_train_test_split(interactions, test_percentage=0.2)"
   ]
  },
  {
   "cell_type": "code",
   "execution_count": 100,
   "id": "939e13f5",
   "metadata": {},
   "outputs": [
    {
     "data": {
      "text/plain": [
       "<lightfm.lightfm.LightFM at 0x7fe2aab102d0>"
      ]
     },
     "execution_count": 100,
     "metadata": {},
     "output_type": "execute_result"
    }
   ],
   "source": [
    "model = LightFM(loss='bpr')\n",
    "\n",
    "model.fit(train,\n",
    "      user_features=user_features,\n",
    "      item_features=item_features,\n",
    "      #sample_weight= weights,\n",
    "      epochs=200)"
   ]
  },
  {
   "cell_type": "markdown",
   "id": "ea5fd3d4",
   "metadata": {},
   "source": [
    "### Evaluating the model"
   ]
  },
  {
   "cell_type": "code",
   "execution_count": 101,
   "id": "fa24e7d3",
   "metadata": {},
   "outputs": [
    {
     "name": "stdout",
     "output_type": "stream",
     "text": [
      "Train@k Precision: 0.6073551177978516\n",
      "Test@k Precision: 0.13678179681301117\n"
     ]
    }
   ],
   "source": [
    "train_precision = evaluation.precision_at_k(model, train, user_features = user_features, item_features = item_features, k=5, num_threads=2).mean()\n",
    "test_precision  = evaluation.precision_at_k(model, test,  user_features = user_features, item_features = item_features, k=5, num_threads=2).mean()\n",
    "print('Train@k Precision: {}'.format(train_precision))\n",
    "print('Test@k Precision: {}'.format(test_precision))"
   ]
  },
  {
   "cell_type": "code",
   "execution_count": 102,
   "id": "fc9eb917",
   "metadata": {},
   "outputs": [
    {
     "name": "stdout",
     "output_type": "stream",
     "text": [
      "Hybrid train set AUC: 0.9690435\n",
      "Hybrid test set AUC: 0.89926064\n"
     ]
    }
   ],
   "source": [
    "from lightfm.evaluation import auc_score\n",
    "train_auc = auc_score(model,\n",
    "                      train,\n",
    "                      user_features=user_features,\n",
    "                      item_features=item_features,\n",
    "                     ).mean()\n",
    "\n",
    "test_auc = auc_score(model,\n",
    "                      test,\n",
    "                      user_features=user_features,\n",
    "                      item_features=item_features,\n",
    "                     ).mean()\n",
    "\n",
    "print('Hybrid train set AUC: %s' % train_auc)\n",
    "print('Hybrid test set AUC: %s' % test_auc)"
   ]
  },
  {
   "cell_type": "markdown",
   "id": "366b2502",
   "metadata": {},
   "source": [
    "### Prediction for NEW user"
   ]
  },
  {
   "cell_type": "markdown",
   "id": "15c73741",
   "metadata": {},
   "source": [
    "I we would like to make predictions for new users we would need all the information in the same dict format that we trained the model"
   ]
  },
  {
   "cell_type": "code",
   "execution_count": 65,
   "id": "833f3235",
   "metadata": {},
   "outputs": [],
   "source": [
    "user_feature_list = ['office_or_hospital_based:1','gender:1','is_cardiologist:0','is_gp:0','years_since_graduation:25']"
   ]
  },
  {
   "cell_type": "code",
   "execution_count": 66,
   "id": "e7d43ee4",
   "metadata": {},
   "outputs": [],
   "source": [
    "def format_newuser_input(user_feature_map, user_feature_list):\n",
    "  num_features = len(user_feature_list)\n",
    "  normalised_val = 1.0 \n",
    "  target_indices = []\n",
    "  for feature in user_feature_list:\n",
    "    try:\n",
    "        target_indices.append(user_feature_map[feature])\n",
    "    except KeyError:\n",
    "        print(\"new user feature encountered '{}'\".format(feature))\n",
    "        pass\n",
    "  print(\"target indices: {}\".format(target_indices))\n",
    "  new_user_features = np.zeros(len(user_feature_map.keys()))\n",
    "  for i in target_indices:\n",
    "    new_user_features[i] = normalised_val\n",
    "  new_user_features = sparse.csr_matrix(new_user_features)\n",
    "  return new_user_features "
   ]
  },
  {
   "cell_type": "code",
   "execution_count": 67,
   "id": "0a152e9a",
   "metadata": {},
   "outputs": [
    {
     "name": "stdout",
     "output_type": "stream",
     "text": [
      "new user feature encountered 'office_or_hospital_based:1'\n",
      "new user feature encountered 'gender:1'\n",
      "new user feature encountered 'is_cardiologist:0'\n",
      "new user feature encountered 'is_gp:0'\n",
      "new user feature encountered 'years_since_graduation:25'\n",
      "target indices: []\n"
     ]
    }
   ],
   "source": [
    "new_user_features = format_newuser_input(user_feature_map, user_feature_list)"
   ]
  },
  {
   "cell_type": "code",
   "execution_count": 68,
   "id": "72e5522b",
   "metadata": {},
   "outputs": [],
   "source": [
    "n_users, n_items = interactions.shape"
   ]
  },
  {
   "cell_type": "markdown",
   "id": "c59bafbb",
   "metadata": {},
   "source": [
    "The predict method returns us the probability of success for each message_id"
   ]
  },
  {
   "cell_type": "code",
   "execution_count": 69,
   "id": "6c5845ec",
   "metadata": {},
   "outputs": [
    {
     "data": {
      "text/plain": [
       "array([ 0.3526313 ,  0.45011058,  0.6261575 , -0.64786506, -0.1227588 ,\n",
       "        0.3404426 ,  0.02946019, -0.16120562,  0.37465227,  0.603251  ,\n",
       "        0.1432379 , -0.9550964 , -0.5493956 , -0.5667434 ,  0.435227  ,\n",
       "       -0.5454    , -0.69179624,  0.31380746, -0.13637987, -0.12275936,\n",
       "        0.20913711,  0.32417628, -0.08723886,  0.2397073 ,  0.17465188,\n",
       "        0.24653211,  0.19235444,  0.06233511, -0.6685232 , -0.7445027 ,\n",
       "       -0.5762159 , -0.78303427,  0.44341022,  0.19304694,  0.54075134,\n",
       "        0.47342718,  0.66709226,  0.35215145,  0.06815819, -0.17350964,\n",
       "        0.42451763, -0.20198037, -0.12116621, -0.06965818, -1.0168414 ,\n",
       "        0.2659031 ,  0.6375642 , -0.01295083,  0.31356373,  0.8293939 ,\n",
       "        0.26169458,  0.1820691 ,  0.38148752,  0.326097  , -0.3471417 ,\n",
       "       -0.22477186,  0.09207189, -0.91054547, -0.9197751 ,  0.26825777,\n",
       "       -0.3709546 ,  0.15210119,  0.73444694,  0.8235039 ,  0.6405208 ,\n",
       "        0.4482015 ,  0.36774948, -0.23526438, -0.14386976,  0.13913494,\n",
       "        0.71589994, -1.1817099 , -0.8894889 , -0.7786712 ,  0.22617945,\n",
       "        0.6952242 , -0.5585628 , -0.70027417,  0.6578524 ,  0.4461871 ,\n",
       "        0.70433795, -0.43634656, -0.27556726, -1.138141  ,  0.07063849,\n",
       "       -0.1916993 , -0.40115824, -0.03640883, -0.01053048, -0.27826586,\n",
       "        0.379129  , -0.25656104, -0.02236508,  0.01501194, -0.20202458,\n",
       "       -0.30723292,  0.38596383, -0.0780246 , -0.12527524,  0.42620367],\n",
       "      dtype=float32)"
      ]
     },
     "execution_count": 69,
     "metadata": {},
     "output_type": "execute_result"
    }
   ],
   "source": [
    "model.predict(0, np.arange(n_items), user_features=new_user_features)"
   ]
  },
  {
   "cell_type": "markdown",
   "id": "164fd37c",
   "metadata": {},
   "source": [
    "## 2.5  Model Improvement <a class=\"anchor\" id=\"section_2_5\"></a>"
   ]
  },
  {
   "cell_type": "markdown",
   "id": "9ab496cc",
   "metadata": {},
   "source": [
    "In order to improve the model metrics (specifically precision at k), we will do some hyperparameter tunning"
   ]
  },
  {
   "cell_type": "code",
   "execution_count": 70,
   "id": "fb904a95",
   "metadata": {},
   "outputs": [],
   "source": [
    "def objective_wsideinfo(params):\n",
    "    epochs, learning_rate,no_components, item_alpha,scale = params\n",
    "    \n",
    "    user_alpha = item_alpha * scale\n",
    "    model = LightFM(loss='bpr',\n",
    "                    random_state=0,\n",
    "                    learning_rate=learning_rate,\n",
    "                    no_components=no_components,\n",
    "                    user_alpha=user_alpha,\n",
    "                    item_alpha=item_alpha)\n",
    "    model.fit(train, \n",
    "              epochs=epochs,\n",
    "              user_features=user_features, \n",
    "              item_features=item_features,\n",
    "              num_threads=4, \n",
    "              verbose=True)\n",
    "    \n",
    "    patks = evaluation.precision_at_k(model,\n",
    "                                      test,\n",
    "                                      user_features=user_features, \n",
    "                                      item_features=item_features,\n",
    "                                      train_interactions=None,\n",
    "                                      k=5, \n",
    "                                      num_threads=2)\n",
    "    mapatk = np.mean(patks)\n",
    "    # Make negative because we want to _minimize_ objective\n",
    "    out = -mapatk\n",
    "\n",
    "    if np.abs(out + 1) < 0.01 or out < -1.0:\n",
    "        return 0.0\n",
    "    else:\n",
    "        return out"
   ]
  },
  {
   "cell_type": "code",
   "execution_count": 3,
   "id": "a6cff365",
   "metadata": {},
   "outputs": [],
   "source": [
    "space = [(1, 500), # epochs\n",
    "         (10**-3, 1.0, 'log-uniform'), # learning_rate\n",
    "         (20, 200), # no_components\n",
    "         (10**-5, 10**-3, 'log-uniform'), # item_alpha\n",
    "         (0.001, 1., 'log-uniform') # user_scaling\n",
    "        ]\n",
    "\n",
    "#I comment the next because the output is too long, I will let the results in the next chunk\n",
    "#res_fm_itemfeat = forest_minimize(objective_wsideinfo, space, n_calls=10, random_state=0, verbose=True)"
   ]
  },
  {
   "cell_type": "code",
   "execution_count": 104,
   "id": "e33c5a38",
   "metadata": {},
   "outputs": [
    {
     "name": "stdout",
     "output_type": "stream",
     "text": [
      "Maximimum p@k found: 0.16358\n",
      "Optimal parameters:\n",
      "epochs: 129\n",
      "learning_rate: 0.009384756816024659\n",
      "no_components: 153\n",
      "item_alpha: 0.00016756813861488494\n",
      "scaling: 0.07092543214735833\n"
     ]
    }
   ],
   "source": [
    "print('Maximimum p@k found: {:6.5f}'.format(-res_fm_itemfeat.fun))\n",
    "print('Optimal parameters:')\n",
    "params = ['epochs', 'learning_rate', 'no_components', 'item_alpha', 'scaling']\n",
    "for (p, x_) in zip(params, res_fm_itemfeat.x):\n",
    "    print('{}: {}'.format(p, x_))"
   ]
  },
  {
   "cell_type": "markdown",
   "id": "de64fd8f",
   "metadata": {},
   "source": [
    "Now let's try the model with the optimized hyperparameters"
   ]
  },
  {
   "cell_type": "code",
   "execution_count": 110,
   "id": "4553061a",
   "metadata": {},
   "outputs": [
    {
     "data": {
      "text/plain": [
       "<lightfm.lightfm.LightFM at 0x7fe2aab17ed0>"
      ]
     },
     "execution_count": 110,
     "metadata": {},
     "output_type": "execute_result"
    }
   ],
   "source": [
    "model = LightFM(loss='bpr', \n",
    "                learning_rate=0.009384756816024659,\n",
    "                no_components=153, \n",
    "                item_alpha=0.00016756813861488494)\n",
    "\n",
    "model.fit(train,\n",
    "      user_features=user_features,\n",
    "      item_features=item_features,\n",
    "      epochs= 129)"
   ]
  },
  {
   "cell_type": "code",
   "execution_count": 116,
   "id": "a8df6b71",
   "metadata": {},
   "outputs": [
    {
     "name": "stdout",
     "output_type": "stream",
     "text": [
      "Train@k Precision: 0.7329657673835754\n",
      "Test@k Precision: 0.25087299942970276\n"
     ]
    }
   ],
   "source": [
    "train_precision = evaluation.precision_at_k(model, train, user_features=user_features, item_features=item_features, k=5, num_threads=2).mean()\n",
    "test_precision  = evaluation.precision_at_k(model, test,  user_features=user_features, item_features=item_features, k=5, num_threads=2).mean()\n",
    "print('Train@k Precision: {}'.format(train_precision))\n",
    "print('Test@k Precision: {}'.format(test_precision))"
   ]
  },
  {
   "cell_type": "code",
   "execution_count": 117,
   "id": "8e919942",
   "metadata": {},
   "outputs": [
    {
     "name": "stdout",
     "output_type": "stream",
     "text": [
      "Hybrid train set AUC: 0.98158723\n",
      "Hybrid test set AUC: 0.9646357\n"
     ]
    }
   ],
   "source": [
    "train_auc = auc_score(model,\n",
    "                      train,\n",
    "                      user_features=user_features,\n",
    "                      item_features=item_features,\n",
    "                     ).mean()\n",
    "\n",
    "test_auc = auc_score(model,\n",
    "                      test,\n",
    "                      user_features=user_features,\n",
    "                      item_features=item_features,\n",
    "                     ).mean()\n",
    "\n",
    "print('Hybrid train set AUC: %s' % train_auc)\n",
    "print('Hybrid test set AUC: %s' % test_auc)"
   ]
  },
  {
   "cell_type": "markdown",
   "id": "81ae2166",
   "metadata": {},
   "source": [
    "## 2.6. Model deployment <a class=\"anchor\" id=\"section_2_6\"></a>"
   ]
  },
  {
   "cell_type": "markdown",
   "id": "a6a31b3f",
   "metadata": {},
   "source": [
    "Lastly, deploy the model to a server using ‘joblib’ library so that we can productionize the end-to-end machine learning framework."
   ]
  },
  {
   "cell_type": "code",
   "execution_count": 112,
   "id": "8c75c3e4",
   "metadata": {},
   "outputs": [
    {
     "data": {
      "text/plain": [
       "['hybrid_recommender_system.model']"
      ]
     },
     "execution_count": 112,
     "metadata": {},
     "output_type": "execute_result"
    }
   ],
   "source": [
    "filename = 'hybrid_recommender_system.model'\n",
    "i = [model]\n",
    "joblib.dump(i,filename)"
   ]
  },
  {
   "cell_type": "markdown",
   "id": "998d6d83",
   "metadata": {},
   "source": [
    "# 3. System evolution <a class=\"anchor\" id=\"chapter3\"></a>"
   ]
  },
  {
   "cell_type": "markdown",
   "id": "c1b03d51",
   "metadata": {},
   "source": [
    "After a model has been developed it is necessary to put the model into production\n",
    "- **Algorithm improvement**: Over time, the algorithm behind the recommendation system can be fine-tuned and improved to provide more accurate and relevant recommendations. This can be done by incorporating new data sources, updating the machine learning models used, and using advanced techniques such as deep learning.\n",
    "\n",
    "\n",
    "- **Feedback loop**: The recommendation system can be trained on the feedback from users, such as the emails they open, click on, or mark as spam. This information can be used to adjust the algorithm and improve the recommendations over time.\n",
    "\n",
    "\n",
    "- **Message creation**: The recommendation system can also be used to generate personalized messages based on the user's preferences and behavior. The system can learn the most effective messaging styles, subject lines, and calls to action and use this information to generate more effective emails over time."
   ]
  },
  {
   "cell_type": "markdown",
   "id": "e6cd7443",
   "metadata": {},
   "source": [
    "There are several UX options that could enhance HCPs experience and interaction with content:\n",
    "\n",
    "- **Mobile App:** A mobile app that is specifically designed for HCPs to access the recommendation system, consume content and engage with other healthcare professionals.\n",
    "\n",
    "\n",
    "- **Interactive Dashboards:** Customizable dashboards that show relevant information and recommendations based on the HCP's interests and preferences.\n",
    "\n",
    "\n",
    "- **Virtual Reality:** A VR experience that allows HCPs to engage with content in a more immersive and interactive way.\n",
    "\n",
    "\n",
    "- **AI-powered Chatbots:** A conversational interface that utilizes AI to provide HCPs with personalized recommendations and information in real-time.\n",
    "\n",
    "\n",
    "- **Collaborative Workspaces:** A platform that allows HCPs to collaborate, share and discuss content with each other in real-time.\n",
    "\n",
    "\n",
    "However, in order to **maximize the number of HCPs we are reaching it is important to take the engagement into account**: HCPs with a high level of engagement will probably check often websites or any other UX listed above. However, **email is a good strategy for those new or with low level of engagement HCPs  in terms of reachability as they are less likely to check other options but will always receive email**."
   ]
  },
  {
   "cell_type": "markdown",
   "id": "dcfa8fea",
   "metadata": {},
   "source": [
    "# 5. Model feature selection <a class=\"anchor\" id=\"chapter5\"></a>\n"
   ]
  },
  {
   "cell_type": "markdown",
   "id": "1af78e46",
   "metadata": {},
   "source": [
    "With this **first version of the model we will just use it to provide content creators insights about the frecuency and the type of emails with higher chances to be read and clicked.**\n",
    "\n",
    "However, in the future we could provide much **more detailed information to content creators and, at some point, have a system that automatically designs the emails and is able to target the audience**. \n",
    "\n",
    "However, before trying more sophisticated algorithms we could:\n",
    "\n",
    "- Keep **optimizing model hyperparameters**\n",
    "\n",
    "- Ensure and **improve data quality**\n",
    "\n",
    "- **Retrain the model with more historical data**\n",
    "\n",
    "\n",
    "\n",
    "Another useful resource would be **add  external to the model**. I think that there are a great amount of external features that could have predictive power such as:\n",
    "\n",
    "1. **Demographics of the hospital/organization of the HCP** (area, region, postal code, etc...)\n",
    "\n",
    "\n",
    "2. **Statistical kpis such as number of patients received per day, number of doctors for each area,** etc... This can help us to understand better the place the HCP is working for\n",
    "\n",
    "\n",
    "3. If the **hospital/healthcare organization is public or private** (this could limit the products that HCP are alloed to prescribe)\n",
    "\n",
    "\n",
    "4. If the **HCP hospital has any agreement with company**\n",
    "\n",
    "\n",
    "5. If the **HCP has already prescribed company products in the past (engagement)**\n",
    "\n",
    "\n",
    "6. More **specific information about the HCP type** (not only general practitioner or cardiologist)\n",
    "\n",
    "\n",
    "7. **History of visits** to the HCP by company commercials and feedback reported by commercials.\n",
    "\n",
    "\n",
    "8. **Feedback provided by the HCP**\n",
    "\n",
    "\n",
    "9. **Content  and lenght of the message sent** to the HCP (text)\n",
    "\n",
    "\n",
    "10. **UX email desing (position in the email of the click and structure of the message)**\n",
    "\n",
    "\n",
    "11. **If the email contains audiovisual content** and type of content (image, video, etc...)\n",
    "\n",
    "\n",
    "12. **Indicators of any predominant desease in the area**"
   ]
  },
  {
   "cell_type": "markdown",
   "id": "1dfea524",
   "metadata": {},
   "source": [
    "# 6. Next steps: computer vision and text mining <a class=\"anchor\" id=\"chapter6\"></a>"
   ]
  },
  {
   "cell_type": "markdown",
   "id": "229edd5d",
   "metadata": {},
   "source": [
    "A full flow of d**evelopment and production of automating email messages using computer vision and text mining** would involve the following steps:\n",
    "\n",
    "- **1. Data Collection**\n",
    "\n",
    "\n",
    "- **2. Image Processing**: Using computer vision techniques to extract and process images and other visual elements from the emails.\n",
    "\n",
    "    Computer vision could be applied to email creation in the following ways:\n",
    "\n",
    "    - **Image recognition**: Computer vision algorithms can be used to analyze images contained in emails and extract information that can be used to personalize the content. For example, an algorithm could analyze images of products and use the information to recommend similar products to the recipient.\n",
    "\n",
    "    - **Image generation**: Computer vision algorithms can also be used to generate images for email campaigns. For example, an algorithm could be trained to generate product images based on a description or to generate personalized images based on the recipient's preferences.\n",
    "\n",
    "    - **Layout optimization**: Computer vision algorithms can be used to analyze the layout and design of emails and suggest optimizations to increase the effectiveness of the email campaign. For example, an algorithm could analyze the position and size of different elements in an email and suggest changes to improve the overall readability and engagement.\n",
    "\n",
    "\n",
    "- **3. Text Processing**: Using text mining techniques to extract meaningful information from the email text, such as key topics, sentiment, etc.\n",
    "    Text mining can be applied to email creation in the following ways:\n",
    "\n",
    "    - **Content personalization**: Text mining algorithms could be used to analyze the recipient's behavior and preferences, such as the emails they have opened, clicked on, or replied to, and use this information to personalize the content of future emails. For example, an algorithm could analyze the recipient's email history and suggest products or topics that the recipient is likely to be interested in.\n",
    "\n",
    "    - **Sentiment analysis**: by applying text mining techniques we could analyze the recipient's tone and sentiment in previous emails and use this information to generate more effective messages. For example,by analyzing the recipient's email history we could suggest a more positive or negative tone for the next email depending on the recipient's feeling with the product we are trying to sell.\n",
    "\n",
    "    - **Text generation**: we could also generate personalized messages, subject lines, and calls to action based on the recipient's behavior and preferences. For example, generate a subject line that summarizes the content of the email or generate a call to action that is likely to generate the highest response rate.\n",
    "\n",
    "\n",
    "- **4. Feature Engineering**: Creating relevant features from the extracted data that can be used as inputs for machine learning algorithms.\n",
    "\n",
    "\n",
    "- **5. Model Training**: Train machine learning models using the processed data from the previous steps.\n",
    "\n",
    "\n",
    "- **6. Model Deployment**: Once the models are trained and evaluated, they can be deployed into production. This could involve integrating the models into a web service or a mobile app, or using a cloud-based service like Amazon SageMaker or Google Cloud AI.\n",
    "\n",
    "\n",
    "- **7. Testing**: It is importa test the deployed models in a production environment to ensure that they are working as expected. \n",
    "\n",
    "\n",
    "- **8.Monitoring and Maintenance**: Regular monitoring of the models is necessary to ensure their continued accuracy. This could involve retraining the models with new data, updating dependencies, and fixing any bugs. It is a common practice to **keep a control group**, e.g a subset of customers for which we do not apply the model. This help us to know if applying the model actually improves our metrics vs not applying it,\n",
    "\n",
    "\n",
    "\n",
    "\n",
    "I would like to add that **before releasing into production any change that could it is crucial to test the new solution to check if it really improves the current solution**. In order to do that it is often used **A/B testing.**"
   ]
  }
 ],
 "metadata": {
  "kernelspec": {
   "display_name": "Python 3 (ipykernel)",
   "language": "python",
   "name": "python3"
  },
  "language_info": {
   "codemirror_mode": {
    "name": "ipython",
    "version": 3
   },
   "file_extension": ".py",
   "mimetype": "text/x-python",
   "name": "python",
   "nbconvert_exporter": "python",
   "pygments_lexer": "ipython3",
   "version": "3.9.19"
  }
 },
 "nbformat": 4,
 "nbformat_minor": 5
}
